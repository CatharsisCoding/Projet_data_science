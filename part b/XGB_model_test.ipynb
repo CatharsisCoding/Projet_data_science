{
 "cells": [
  {
   "cell_type": "code",
   "execution_count": 103,
   "id": "ee5eadf7",
   "metadata": {},
   "outputs": [],
   "source": [
    "import pandas as pd\n",
    "import numpy as np\n",
    "import xgboost as xgb\n",
    "from sklearn.model_selection import train_test_split\n",
    "from sklearn.metrics import mean_squared_error,accuracy_score\n",
    "from sklearn.preprocessing import MinMaxScaler"
   ]
  },
  {
   "cell_type": "code",
   "execution_count": 104,
   "id": "520f87c5",
   "metadata": {},
   "outputs": [],
   "source": [
    "train  = pd.read_csv('InputTrain.csv')\n",
    "test = pd.read_csv('InputTest.csv')\n",
    "WM = pd.read_csv('StepTwo_LabelTrain_WashingMachine.csv')\n",
    "DW = pd.read_csv('StepTwo_LabelTrain_Dishwasher.csv')\n",
    "TD = pd.read_csv('StepTwo_LabelTrain_TumbleDryer.csv')\n",
    "MW = pd.read_csv('StepTwo_LabelTrain_Microwave.csv')\n",
    "K= pd.read_csv('StepTwo_LabelTrain_Kettle.csv')"
   ]
  },
  {
   "cell_type": "code",
   "execution_count": 105,
   "id": "58e8764b",
   "metadata": {},
   "outputs": [],
   "source": [
    "train = train.set_index('Index')\n",
    "test =  test.set_index('Index')\n",
    "WM = WM.set_index('Index')\n",
    "DW = DW.set_index('Index')\n",
    "TD = TD.set_index('Index')\n",
    "MW = MW.set_index('Index')\n",
    "K = K.set_index('Index')"
   ]
  },
  {
   "cell_type": "code",
   "execution_count": 106,
   "id": "0deb1b3e",
   "metadata": {},
   "outputs": [],
   "source": [
    "X = train.drop('House_id', axis=1)\n",
    "Y_WM = WM.drop('House_id',axis=1)\n",
    "Y_DW = DW.drop('House_id',axis=1)\n",
    "Y_TD = TD.drop('House_id',axis=1)\n",
    "Y_MW = MW.drop('House_id',axis=1)\n",
    "Y_K = K.drop('House_id',axis=1)\n",
    "test_X = test.drop(\"House_id\",axis=1)"
   ]
  },
  {
   "cell_type": "code",
   "execution_count": 107,
   "id": "e9186e12",
   "metadata": {},
   "outputs": [],
   "source": [
    "model_WM= xgb.Booster()\n",
    "model_DW= xgb.Booster()\n",
    "model_TD= xgb.Booster()\n",
    "model_MW= xgb.Booster()\n",
    "model_K= xgb.Booster()\n",
    "model_WM.load_model(\"WM_model\")\n",
    "model_DW.load_model(\"DW_model\")\n",
    "model_TD.load_model(\"TD_model\")\n",
    "model_MW.load_model(\"MW_model\")\n",
    "model_K.load_model(\"K_model\")"
   ]
  },
  {
   "cell_type": "code",
   "execution_count": 108,
   "id": "486b3040",
   "metadata": {},
   "outputs": [],
   "source": [
    "T = xgb.DMatrix(test_X)"
   ]
  },
  {
   "cell_type": "code",
   "execution_count": 109,
   "id": "41cae29c",
   "metadata": {},
   "outputs": [],
   "source": [
    "WM_results=  model_WM.predict(T)\n",
    "DW_results = model_DW.predict(T)\n",
    "TD_results = model_TD.predict(T)\n",
    "MW_results = model_MW.predict(T)\n",
    "K_results = model_K.predict(T)"
   ]
  },
  {
   "cell_type": "code",
   "execution_count": 110,
   "id": "39041250",
   "metadata": {},
   "outputs": [],
   "source": [
    "WM_results = WM_results.flatten()\n",
    "DW_results = DW_results.flatten()\n",
    "TD_results = TD_results.flatten()\n",
    "MW_results = MW_results.flatten()\n",
    "K_results = K_results.flatten()"
   ]
  },
  {
   "cell_type": "code",
   "execution_count": 111,
   "id": "cf195811",
   "metadata": {},
   "outputs": [],
   "source": [
    "WM_results = np.round(WM_results,3)\n",
    "DW_results = np.round(DW_results,3)\n",
    "TD_results = np.round(TD_results,3)\n",
    "MW_results = np.round(MW_results,3)\n",
    "K_results = np.round(K_results,3)"
   ]
  },
  {
   "cell_type": "code",
   "execution_count": 112,
   "id": "764e606a",
   "metadata": {},
   "outputs": [],
   "source": [
    "# WM_results[WM_results <= 0] = 0.0\n",
    "# DW_results[DW_results <= 0] = 0.0\n",
    "# TD_results[TD_results <= 0] = 0.0\n",
    "# MW_results[MW_results <= 0] = 0.0\n",
    "# K_results[K_results <= 0] = 0.0"
   ]
  },
  {
   "cell_type": "code",
   "execution_count": 113,
   "id": "e945e473",
   "metadata": {},
   "outputs": [],
   "source": [
    "# WM_results = (WM_results>0.5).astype(int)\n",
    "# DW_results = (DW_results>0.5).astype(int)\n",
    "# TD_results = (TD_results>0.5).astype(int)\n",
    "# MW_results = (MW_results>0.5).astype(int)\n",
    "# K_results = (K_results>0.5).astype(int)"
   ]
  },
  {
   "cell_type": "code",
   "execution_count": 114,
   "id": "55284a83",
   "metadata": {},
   "outputs": [],
   "source": [
    "results = {\"Index\":np.arange(len(WM_results)),\"Washing Machine\":WM_results, \"Dishwasher\": DW_results, \"Tumble Dryer\":TD_results, \"Microwave\":MW_results, \"Kettle\":K_results}\n",
    "results = pd.DataFrame(data=results)"
   ]
  },
  {
   "cell_type": "code",
   "execution_count": 115,
   "id": "8fe971bb",
   "metadata": {},
   "outputs": [
    {
     "data": {
      "text/html": [
       "<div>\n",
       "<style scoped>\n",
       "    .dataframe tbody tr th:only-of-type {\n",
       "        vertical-align: middle;\n",
       "    }\n",
       "\n",
       "    .dataframe tbody tr th {\n",
       "        vertical-align: top;\n",
       "    }\n",
       "\n",
       "    .dataframe thead th {\n",
       "        text-align: right;\n",
       "    }\n",
       "</style>\n",
       "<table border=\"1\" class=\"dataframe\">\n",
       "  <thead>\n",
       "    <tr style=\"text-align: right;\">\n",
       "      <th></th>\n",
       "      <th>Washing Machine</th>\n",
       "      <th>Dishwasher</th>\n",
       "      <th>Tumble Dryer</th>\n",
       "      <th>Microwave</th>\n",
       "      <th>Kettle</th>\n",
       "    </tr>\n",
       "    <tr>\n",
       "      <th>Index</th>\n",
       "      <th></th>\n",
       "      <th></th>\n",
       "      <th></th>\n",
       "      <th></th>\n",
       "      <th></th>\n",
       "    </tr>\n",
       "  </thead>\n",
       "  <tbody>\n",
       "    <tr>\n",
       "      <th>0</th>\n",
       "      <td>0.070</td>\n",
       "      <td>0.744</td>\n",
       "      <td>-0.011</td>\n",
       "      <td>-0.001</td>\n",
       "      <td>-0.002</td>\n",
       "    </tr>\n",
       "    <tr>\n",
       "      <th>1</th>\n",
       "      <td>0.225</td>\n",
       "      <td>0.722</td>\n",
       "      <td>0.009</td>\n",
       "      <td>-0.003</td>\n",
       "      <td>-0.003</td>\n",
       "    </tr>\n",
       "    <tr>\n",
       "      <th>2</th>\n",
       "      <td>0.085</td>\n",
       "      <td>0.744</td>\n",
       "      <td>-0.002</td>\n",
       "      <td>-0.004</td>\n",
       "      <td>-0.002</td>\n",
       "    </tr>\n",
       "    <tr>\n",
       "      <th>3</th>\n",
       "      <td>0.151</td>\n",
       "      <td>0.744</td>\n",
       "      <td>-0.002</td>\n",
       "      <td>0.001</td>\n",
       "      <td>-0.003</td>\n",
       "    </tr>\n",
       "    <tr>\n",
       "      <th>4</th>\n",
       "      <td>0.054</td>\n",
       "      <td>0.724</td>\n",
       "      <td>-0.002</td>\n",
       "      <td>-0.002</td>\n",
       "      <td>-0.001</td>\n",
       "    </tr>\n",
       "    <tr>\n",
       "      <th>...</th>\n",
       "      <td>...</td>\n",
       "      <td>...</td>\n",
       "      <td>...</td>\n",
       "      <td>...</td>\n",
       "      <td>...</td>\n",
       "    </tr>\n",
       "    <tr>\n",
       "      <th>5374075</th>\n",
       "      <td>-0.026</td>\n",
       "      <td>0.796</td>\n",
       "      <td>-0.004</td>\n",
       "      <td>0.003</td>\n",
       "      <td>-0.010</td>\n",
       "    </tr>\n",
       "    <tr>\n",
       "      <th>5374076</th>\n",
       "      <td>-0.042</td>\n",
       "      <td>0.802</td>\n",
       "      <td>-0.004</td>\n",
       "      <td>-0.010</td>\n",
       "      <td>0.003</td>\n",
       "    </tr>\n",
       "    <tr>\n",
       "      <th>5374077</th>\n",
       "      <td>-0.042</td>\n",
       "      <td>0.845</td>\n",
       "      <td>-0.019</td>\n",
       "      <td>0.005</td>\n",
       "      <td>-0.002</td>\n",
       "    </tr>\n",
       "    <tr>\n",
       "      <th>5374078</th>\n",
       "      <td>0.006</td>\n",
       "      <td>0.837</td>\n",
       "      <td>-0.011</td>\n",
       "      <td>-0.001</td>\n",
       "      <td>-0.011</td>\n",
       "    </tr>\n",
       "    <tr>\n",
       "      <th>5374079</th>\n",
       "      <td>-0.026</td>\n",
       "      <td>0.878</td>\n",
       "      <td>-0.004</td>\n",
       "      <td>-0.002</td>\n",
       "      <td>-0.009</td>\n",
       "    </tr>\n",
       "  </tbody>\n",
       "</table>\n",
       "<p>5374080 rows × 5 columns</p>\n",
       "</div>"
      ],
      "text/plain": [
       "         Washing Machine  Dishwasher  Tumble Dryer  Microwave  Kettle\n",
       "Index                                                                \n",
       "0                  0.070       0.744        -0.011     -0.001  -0.002\n",
       "1                  0.225       0.722         0.009     -0.003  -0.003\n",
       "2                  0.085       0.744        -0.002     -0.004  -0.002\n",
       "3                  0.151       0.744        -0.002      0.001  -0.003\n",
       "4                  0.054       0.724        -0.002     -0.002  -0.001\n",
       "...                  ...         ...           ...        ...     ...\n",
       "5374075           -0.026       0.796        -0.004      0.003  -0.010\n",
       "5374076           -0.042       0.802        -0.004     -0.010   0.003\n",
       "5374077           -0.042       0.845        -0.019      0.005  -0.002\n",
       "5374078            0.006       0.837        -0.011     -0.001  -0.011\n",
       "5374079           -0.026       0.878        -0.004     -0.002  -0.009\n",
       "\n",
       "[5374080 rows x 5 columns]"
      ]
     },
     "execution_count": 115,
     "metadata": {},
     "output_type": "execute_result"
    }
   ],
   "source": [
    "results = results.set_index('Index')\n",
    "results"
   ]
  },
  {
   "cell_type": "code",
   "execution_count": 116,
   "id": "3ffa79bb",
   "metadata": {},
   "outputs": [],
   "source": [
    "results.to_csv(\"xgboost_model_pred_results_opt1f_n.csv\", index=True)"
   ]
  },
  {
   "cell_type": "markdown",
   "id": "fce6ee75",
   "metadata": {},
   "source": [
    "# Washing Machine"
   ]
  },
  {
   "cell_type": "code",
   "execution_count": 117,
   "id": "b6d636b3",
   "metadata": {},
   "outputs": [],
   "source": [
    "# X_train, X_test, y_train, y_test = train_test_split(X, Y_WM, random_state=1)"
   ]
  },
  {
   "cell_type": "code",
   "execution_count": 118,
   "id": "e567529b",
   "metadata": {},
   "outputs": [],
   "source": [
    "# dtrain_reg = xgb.DMatrix(X_train, y_train)\n",
    "\n",
    "# dtest_reg = xgb.DMatrix(X_test, y_test)"
   ]
  },
  {
   "cell_type": "code",
   "execution_count": 119,
   "id": "7554f317",
   "metadata": {},
   "outputs": [],
   "source": [
    "# params = {\"alpha\":2,\"subsample\":0.829,'min_child_weight':12,'gamma':0.1,'max_depth': 4,'eta':0.1,\"objective\": \"reg:squarederror\", \"tree_method\": \"gpu_hist\"}\n",
    "# evalist = [(dtrain_reg, 'train'), (dtest_reg, 'eval')]\n",
    "# n = 100\n",
    "# bst_WM = xgb.train(params, dtrain_reg, n, evalist,early_stopping_rounds=10)"
   ]
  },
  {
   "cell_type": "code",
   "execution_count": 120,
   "id": "d5f87f73",
   "metadata": {},
   "outputs": [],
   "source": [
    "# bst_WM.save_model(\"WM_model\")"
   ]
  },
  {
   "cell_type": "markdown",
   "id": "5b601238",
   "metadata": {},
   "source": [
    "# Dishwasher"
   ]
  },
  {
   "cell_type": "code",
   "execution_count": 121,
   "id": "09668a84",
   "metadata": {},
   "outputs": [],
   "source": [
    "# X_train, X_test, y_train, y_test = train_test_split(X, Y_DW, random_state=2)"
   ]
  },
  {
   "cell_type": "code",
   "execution_count": 122,
   "id": "637dd6cb",
   "metadata": {},
   "outputs": [],
   "source": [
    "# dtrain_reg = xgb.DMatrix(X_train, y_train)\n",
    "\n",
    "# dtest_reg = xgb.DMatrix(X_test, y_test)"
   ]
  },
  {
   "cell_type": "code",
   "execution_count": 123,
   "id": "4bc888ad",
   "metadata": {},
   "outputs": [],
   "source": [
    "# params = {\"alpha\":2,\"subsample\":0.829,'min_child_weight':12,'gamma':0.1,'max_depth': 4,'eta':0.1,\"objective\": \"reg:squarederror\", \"tree_method\": \"gpu_hist\"}\n",
    "# evalist = [(dtrain_reg, 'train'), (dtest_reg, 'eval')]\n",
    "# n = 100\n",
    "# bst_DW = xgb.train(params, dtrain_reg, n, evalist,early_stopping_rounds=10)"
   ]
  },
  {
   "cell_type": "code",
   "execution_count": 124,
   "id": "0ffbb292",
   "metadata": {},
   "outputs": [],
   "source": [
    "# bst_DW.save_model(\"DW_model\")"
   ]
  },
  {
   "cell_type": "markdown",
   "id": "281c9d84",
   "metadata": {},
   "source": [
    "# Tumble Dryer"
   ]
  },
  {
   "cell_type": "code",
   "execution_count": 125,
   "id": "aad63353",
   "metadata": {},
   "outputs": [],
   "source": [
    "# X_train, X_test, y_train, y_test = train_test_split(X, Y_TD, random_state=3)"
   ]
  },
  {
   "cell_type": "code",
   "execution_count": 126,
   "id": "90a5f958",
   "metadata": {},
   "outputs": [],
   "source": [
    "# dtrain_reg = xgb.DMatrix(X_train, y_train)\n",
    "\n",
    "# dtest_reg = xgb.DMatrix(X_test, y_test)"
   ]
  },
  {
   "cell_type": "code",
   "execution_count": 127,
   "id": "096e915d",
   "metadata": {},
   "outputs": [],
   "source": [
    "# params = {\"alpha\":2,\"subsample\":0.829,'min_child_weight':12,'gamma':0.1,'max_depth': 4,'eta':0.1,\"objective\": \"reg:squarederror\", \"tree_method\": \"gpu_hist\"}\n",
    "# evalist = [(dtrain_reg, 'train'), (dtest_reg, 'eval')]\n",
    "# n = 100\n",
    "# bst_TD = xgb.train(params, dtrain_reg, n, evalist,early_stopping_rounds=10)"
   ]
  },
  {
   "cell_type": "code",
   "execution_count": 128,
   "id": "ce80e682",
   "metadata": {},
   "outputs": [],
   "source": [
    "# bst_TD.save_model(\"TD_model\")"
   ]
  },
  {
   "cell_type": "markdown",
   "id": "dd5c27a6",
   "metadata": {},
   "source": [
    "# Microwave"
   ]
  },
  {
   "cell_type": "code",
   "execution_count": 129,
   "id": "fc2b2c93",
   "metadata": {},
   "outputs": [],
   "source": [
    "# X_train, X_test, y_train, y_test = train_test_split(X, Y_MW, random_state=4)"
   ]
  },
  {
   "cell_type": "code",
   "execution_count": 130,
   "id": "8617f95e",
   "metadata": {},
   "outputs": [],
   "source": [
    "# dtrain_reg = xgb.DMatrix(X_train, y_train)\n",
    "\n",
    "# dtest_reg = xgb.DMatrix(X_test, y_test)"
   ]
  },
  {
   "cell_type": "code",
   "execution_count": 131,
   "id": "7b7e2f92",
   "metadata": {},
   "outputs": [],
   "source": [
    "# params = {\"alpha\":2,\"subsample\":0.829,'min_child_weight':12,'gamma':0.1,'max_depth': 4,'eta':0.1,\"objective\": \"reg:squarederror\", \"tree_method\": \"gpu_hist\"}\n",
    "# evalist = [(dtrain_reg, 'train'), (dtest_reg, 'eval')]\n",
    "# n = 100\n",
    "# bst_MW = xgb.train(params, dtrain_reg, n, evalist,early_stopping_rounds=10)"
   ]
  },
  {
   "cell_type": "code",
   "execution_count": 132,
   "id": "f570c3fc",
   "metadata": {},
   "outputs": [],
   "source": [
    "# bst_MW.save_model(\"MW_model\")"
   ]
  },
  {
   "cell_type": "markdown",
   "id": "d2f3e984",
   "metadata": {},
   "source": [
    "# Kettle"
   ]
  },
  {
   "cell_type": "code",
   "execution_count": 133,
   "id": "158bf01f",
   "metadata": {},
   "outputs": [],
   "source": [
    "# X_train, X_test, y_train, y_test = train_test_split(X, Y_K, random_state=5)"
   ]
  },
  {
   "cell_type": "code",
   "execution_count": 134,
   "id": "2c6dadd6",
   "metadata": {},
   "outputs": [],
   "source": [
    "# dtrain_reg = xgb.DMatrix(X_train, y_train)\n",
    "\n",
    "# dtest_reg = xgb.DMatrix(X_test, y_test)"
   ]
  },
  {
   "cell_type": "code",
   "execution_count": 135,
   "id": "68a5b8b2",
   "metadata": {},
   "outputs": [],
   "source": [
    "# params = {\"alpha\":2,\"subsample\":0.829,'min_child_weight':12,'gamma':0.1,'max_depth': 4,'eta':0.1,\"objective\": \"reg:squarederror\", \"tree_method\": \"gpu_hist\"}\n",
    "# evalist = [(dtrain_reg, 'train'), (dtest_reg, 'eval')]\n",
    "# n = 100\n",
    "# bst_K = xgb.train(params, dtrain_reg, n, evalist,early_stopping_rounds=10)"
   ]
  },
  {
   "cell_type": "code",
   "execution_count": 136,
   "id": "4afe39eb",
   "metadata": {},
   "outputs": [],
   "source": [
    "# bst_K.save_model(\"K_model\")"
   ]
  }
 ],
 "metadata": {
  "kernelspec": {
   "display_name": "Python 3 (ipykernel)",
   "language": "python",
   "name": "python3"
  },
  "language_info": {
   "codemirror_mode": {
    "name": "ipython",
    "version": 3
   },
   "file_extension": ".py",
   "mimetype": "text/x-python",
   "name": "python",
   "nbconvert_exporter": "python",
   "pygments_lexer": "ipython3",
   "version": "3.10.10"
  }
 },
 "nbformat": 4,
 "nbformat_minor": 5
}
