{
 "cells": [
  {
   "cell_type": "markdown",
   "id": "ced5b6f9",
   "metadata": {},
   "source": [
    "# Imports"
   ]
  },
  {
   "cell_type": "code",
   "execution_count": 351,
   "id": "ee5eadf7",
   "metadata": {},
   "outputs": [],
   "source": [
    "import pandas as pd\n",
    "import numpy as np\n",
    "import xgboost as xgb\n",
    "from sklearn.model_selection import train_test_split\n",
    "from sklearn.metrics import mean_squared_error,accuracy_score\n",
    "from sklearn.preprocessing import MinMaxScaler"
   ]
  },
  {
   "cell_type": "markdown",
   "id": "d38d368e",
   "metadata": {},
   "source": [
    "# Data Reading and loading the models"
   ]
  },
  {
   "cell_type": "code",
   "execution_count": 352,
   "id": "520f87c5",
   "metadata": {},
   "outputs": [],
   "source": [
    "test = pd.read_csv('InputTest.csv')\n",
    "test =  test.set_index('Index')\n",
    "test_X = test.drop(\"House_id\",axis=1)"
   ]
  },
  {
   "cell_type": "code",
   "execution_count": 353,
   "id": "e9186e12",
   "metadata": {},
   "outputs": [],
   "source": [
    "model_WM= xgb.Booster()\n",
    "model_DW= xgb.Booster()\n",
    "model_TD= xgb.Booster()\n",
    "model_MW= xgb.Booster()\n",
    "model_K= xgb.Booster()\n",
    "model_WM.load_model(\"WM_model\")\n",
    "model_DW.load_model(\"DW_model\")\n",
    "model_TD.load_model(\"TD_model\")\n",
    "model_MW.load_model(\"MW_model\")\n",
    "model_K.load_model(\"K_model\")"
   ]
  },
  {
   "cell_type": "code",
   "execution_count": 354,
   "id": "486b3040",
   "metadata": {},
   "outputs": [],
   "source": [
    "T = xgb.DMatrix(test_X)"
   ]
  },
  {
   "cell_type": "markdown",
   "id": "748cc923",
   "metadata": {},
   "source": [
    "# Prediction and Results"
   ]
  },
  {
   "cell_type": "code",
   "execution_count": 355,
   "id": "41cae29c",
   "metadata": {},
   "outputs": [],
   "source": [
    "WM_results =  model_WM.predict(T)\n",
    "DW_results = model_DW.predict(T)\n",
    "TD_results = model_TD.predict(T)\n",
    "MW_results = model_MW.predict(T)\n",
    "K_results = model_K.predict(T)"
   ]
  },
  {
   "cell_type": "code",
   "execution_count": 358,
   "id": "39041250",
   "metadata": {},
   "outputs": [],
   "source": [
    "WM_results = WM_results.flatten()\n",
    "DW_results = DW_results.flatten()\n",
    "TD_results = TD_results.flatten()\n",
    "MW_results = MW_results.flatten()\n",
    "K_results = K_results.flatten()"
   ]
  },
  {
   "cell_type": "code",
   "execution_count": 360,
   "id": "cf195811",
   "metadata": {},
   "outputs": [],
   "source": [
    "WM_results = np.round(WM_results,4)\n",
    "DW_results = np.round(DW_results,4)\n",
    "TD_results = np.round(TD_results,4)\n",
    "MW_results = np.round(MW_results,4)\n",
    "K_results = np.round(K_results,3)"
   ]
  },
  {
   "cell_type": "code",
   "execution_count": 363,
   "id": "55284a83",
   "metadata": {},
   "outputs": [],
   "source": [
    "results = {\"Index\":np.arange(len(WM_results)),\"Washing Machine\":WM_results, \"Dishwasher\": DW_results, \"Tumble Dryer\":TD_results, \"Microwave\":MW_results, \"Kettle\":K_results}\n",
    "results = pd.DataFrame(data=results)"
   ]
  },
  {
   "cell_type": "code",
   "execution_count": 364,
   "id": "91cc1c65",
   "metadata": {},
   "outputs": [
    {
     "data": {
      "text/html": [
       "<div>\n",
       "<style scoped>\n",
       "    .dataframe tbody tr th:only-of-type {\n",
       "        vertical-align: middle;\n",
       "    }\n",
       "\n",
       "    .dataframe tbody tr th {\n",
       "        vertical-align: top;\n",
       "    }\n",
       "\n",
       "    .dataframe thead th {\n",
       "        text-align: right;\n",
       "    }\n",
       "</style>\n",
       "<table border=\"1\" class=\"dataframe\">\n",
       "  <thead>\n",
       "    <tr style=\"text-align: right;\">\n",
       "      <th></th>\n",
       "      <th>Index</th>\n",
       "      <th>Washing Machine</th>\n",
       "      <th>Dishwasher</th>\n",
       "      <th>Tumble Dryer</th>\n",
       "      <th>Microwave</th>\n",
       "      <th>Kettle</th>\n",
       "    </tr>\n",
       "  </thead>\n",
       "  <tbody>\n",
       "    <tr>\n",
       "      <th>0</th>\n",
       "      <td>0</td>\n",
       "      <td>0.0005</td>\n",
       "      <td>0.0005</td>\n",
       "      <td>0.0005</td>\n",
       "      <td>0.0005</td>\n",
       "      <td>0.0</td>\n",
       "    </tr>\n",
       "    <tr>\n",
       "      <th>1</th>\n",
       "      <td>1</td>\n",
       "      <td>0.0006</td>\n",
       "      <td>0.0005</td>\n",
       "      <td>0.0005</td>\n",
       "      <td>0.0005</td>\n",
       "      <td>0.0</td>\n",
       "    </tr>\n",
       "    <tr>\n",
       "      <th>2</th>\n",
       "      <td>2</td>\n",
       "      <td>0.0005</td>\n",
       "      <td>0.0005</td>\n",
       "      <td>0.0005</td>\n",
       "      <td>0.0005</td>\n",
       "      <td>0.0</td>\n",
       "    </tr>\n",
       "    <tr>\n",
       "      <th>3</th>\n",
       "      <td>3</td>\n",
       "      <td>0.0006</td>\n",
       "      <td>0.0005</td>\n",
       "      <td>0.0005</td>\n",
       "      <td>0.0005</td>\n",
       "      <td>0.0</td>\n",
       "    </tr>\n",
       "    <tr>\n",
       "      <th>4</th>\n",
       "      <td>4</td>\n",
       "      <td>0.0005</td>\n",
       "      <td>0.0005</td>\n",
       "      <td>0.0005</td>\n",
       "      <td>0.0005</td>\n",
       "      <td>0.0</td>\n",
       "    </tr>\n",
       "    <tr>\n",
       "      <th>...</th>\n",
       "      <td>...</td>\n",
       "      <td>...</td>\n",
       "      <td>...</td>\n",
       "      <td>...</td>\n",
       "      <td>...</td>\n",
       "      <td>...</td>\n",
       "    </tr>\n",
       "    <tr>\n",
       "      <th>5374075</th>\n",
       "      <td>5374075</td>\n",
       "      <td>0.0005</td>\n",
       "      <td>0.0005</td>\n",
       "      <td>0.0005</td>\n",
       "      <td>0.0005</td>\n",
       "      <td>0.0</td>\n",
       "    </tr>\n",
       "    <tr>\n",
       "      <th>5374076</th>\n",
       "      <td>5374076</td>\n",
       "      <td>0.0005</td>\n",
       "      <td>0.0005</td>\n",
       "      <td>0.0005</td>\n",
       "      <td>0.0005</td>\n",
       "      <td>0.0</td>\n",
       "    </tr>\n",
       "    <tr>\n",
       "      <th>5374077</th>\n",
       "      <td>5374077</td>\n",
       "      <td>0.0005</td>\n",
       "      <td>0.0005</td>\n",
       "      <td>0.0005</td>\n",
       "      <td>0.0005</td>\n",
       "      <td>0.0</td>\n",
       "    </tr>\n",
       "    <tr>\n",
       "      <th>5374078</th>\n",
       "      <td>5374078</td>\n",
       "      <td>0.0005</td>\n",
       "      <td>0.0005</td>\n",
       "      <td>0.0005</td>\n",
       "      <td>0.0005</td>\n",
       "      <td>0.0</td>\n",
       "    </tr>\n",
       "    <tr>\n",
       "      <th>5374079</th>\n",
       "      <td>5374079</td>\n",
       "      <td>0.0005</td>\n",
       "      <td>0.0005</td>\n",
       "      <td>0.0005</td>\n",
       "      <td>0.0005</td>\n",
       "      <td>0.0</td>\n",
       "    </tr>\n",
       "  </tbody>\n",
       "</table>\n",
       "<p>5374080 rows × 6 columns</p>\n",
       "</div>"
      ],
      "text/plain": [
       "           Index  Washing Machine  Dishwasher  Tumble Dryer  Microwave  Kettle\n",
       "0              0           0.0005      0.0005        0.0005     0.0005     0.0\n",
       "1              1           0.0006      0.0005        0.0005     0.0005     0.0\n",
       "2              2           0.0005      0.0005        0.0005     0.0005     0.0\n",
       "3              3           0.0006      0.0005        0.0005     0.0005     0.0\n",
       "4              4           0.0005      0.0005        0.0005     0.0005     0.0\n",
       "...          ...              ...         ...           ...        ...     ...\n",
       "5374075  5374075           0.0005      0.0005        0.0005     0.0005     0.0\n",
       "5374076  5374076           0.0005      0.0005        0.0005     0.0005     0.0\n",
       "5374077  5374077           0.0005      0.0005        0.0005     0.0005     0.0\n",
       "5374078  5374078           0.0005      0.0005        0.0005     0.0005     0.0\n",
       "5374079  5374079           0.0005      0.0005        0.0005     0.0005     0.0\n",
       "\n",
       "[5374080 rows x 6 columns]"
      ]
     },
     "execution_count": 364,
     "metadata": {},
     "output_type": "execute_result"
    }
   ],
   "source": [
    "results"
   ]
  },
  {
   "cell_type": "code",
   "execution_count": 365,
   "id": "1ae2f55d",
   "metadata": {},
   "outputs": [],
   "source": [
    "results.to_csv(\"res.csv\",index=False)"
   ]
  }
 ],
 "metadata": {
  "kernelspec": {
   "display_name": "Python 3 (ipykernel)",
   "language": "python",
   "name": "python3"
  },
  "language_info": {
   "codemirror_mode": {
    "name": "ipython",
    "version": 3
   },
   "file_extension": ".py",
   "mimetype": "text/x-python",
   "name": "python",
   "nbconvert_exporter": "python",
   "pygments_lexer": "ipython3",
   "version": "3.10.10"
  }
 },
 "nbformat": 4,
 "nbformat_minor": 5
}
