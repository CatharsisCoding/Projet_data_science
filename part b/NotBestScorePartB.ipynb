{
 "cells": [
  {
   "cell_type": "code",
   "execution_count": 1,
   "id": "ee5eadf7",
   "metadata": {},
   "outputs": [],
   "source": [
    "import pandas as pd\n",
    "import numpy as np\n",
    "import xgboost as xgb\n",
    "from sklearn.model_selection import train_test_split\n",
    "from sklearn.metrics import mean_squared_error,accuracy_score\n",
    "from sklearn.preprocessing import MinMaxScaler"
   ]
  },
  {
   "cell_type": "code",
   "execution_count": 2,
   "id": "520f87c5",
   "metadata": {},
   "outputs": [],
   "source": [
    "train  = pd.read_csv('InputTrain.csv')\n",
    "test = pd.read_csv('InputTest.csv')\n",
    "WM = pd.read_csv('StepTwo_LabelTrain_WashingMachine.csv')\n",
    "DW = pd.read_csv('StepTwo_LabelTrain_Dishwasher.csv')\n",
    "TD = pd.read_csv('StepTwo_LabelTrain_TumbleDryer.csv')\n",
    "MW = pd.read_csv('StepTwo_LabelTrain_Microwave.csv')\n",
    "K= pd.read_csv('StepTwo_LabelTrain_Kettle.csv')"
   ]
  },
  {
   "cell_type": "code",
   "execution_count": 3,
   "id": "58e8764b",
   "metadata": {},
   "outputs": [],
   "source": [
    "train = train.set_index('Index')\n",
    "test =  test.set_index('Index')\n",
    "WM = WM.set_index('Index')\n",
    "DW = DW.set_index('Index')\n",
    "TD = TD.set_index('Index')\n",
    "MW = MW.set_index('Index')\n",
    "K = K.set_index('Index')"
   ]
  },
  {
   "cell_type": "code",
   "execution_count": 4,
   "id": "0deb1b3e",
   "metadata": {},
   "outputs": [],
   "source": [
    "X = train.drop('House_id', axis=1)\n",
    "Y_WM = WM.drop('House_id',axis=1)\n",
    "Y_DW = DW.drop('House_id',axis=1)\n",
    "Y_TD = TD.drop('House_id',axis=1)\n",
    "Y_MW = MW.drop('House_id',axis=1)\n",
    "Y_K = K.drop('House_id',axis=1)\n",
    "test_X = test.drop(\"House_id\",axis=1)"
   ]
  },
  {
   "cell_type": "markdown",
   "id": "fce6ee75",
   "metadata": {},
   "source": [
    "# Washing Machine"
   ]
  },
  {
   "cell_type": "code",
   "execution_count": 5,
   "id": "b6d636b3",
   "metadata": {},
   "outputs": [],
   "source": [
    "X_train, X_test, y_train, y_test = train_test_split(X, Y_WM, random_state=1)"
   ]
  },
  {
   "cell_type": "code",
   "execution_count": 6,
   "id": "e567529b",
   "metadata": {},
   "outputs": [],
   "source": [
    "dtrain_reg = xgb.DMatrix(X_train, y_train)\n",
    "\n",
    "dtest_reg = xgb.DMatrix(X_test, y_test)"
   ]
  },
  {
   "cell_type": "code",
   "execution_count": null,
   "id": "785ed9a9",
   "metadata": {},
   "outputs": [],
   "source": []
  },
  {
   "cell_type": "code",
   "execution_count": null,
   "id": "7554f317",
   "metadata": {},
   "outputs": [
    {
     "name": "stderr",
     "output_type": "stream",
     "text": [
      "C:\\Users\\moham\\AppData\\Roaming\\Python\\Python310\\site-packages\\xgboost\\core.py:617: FutureWarning: Pass `evals` as keyword args.\n",
      "  warnings.warn(msg, FutureWarning)\n"
     ]
    },
    {
     "name": "stdout",
     "output_type": "stream",
     "text": [
      "[0]\ttrain-rmse:0.45470\teval-rmse:0.45530\n",
      "[1]\ttrain-rmse:0.41425\teval-rmse:0.41552\n",
      "[2]\ttrain-rmse:0.37820\teval-rmse:0.38021\n",
      "[3]\ttrain-rmse:0.34611\teval-rmse:0.34894\n",
      "[4]\ttrain-rmse:0.31760\teval-rmse:0.32134\n",
      "[5]\ttrain-rmse:0.29232\teval-rmse:0.29705\n",
      "[6]\ttrain-rmse:0.26996\teval-rmse:0.27576\n",
      "[7]\ttrain-rmse:0.25024\teval-rmse:0.25717\n",
      "[8]\ttrain-rmse:0.23289\teval-rmse:0.24102\n",
      "[9]\ttrain-rmse:0.21768\teval-rmse:0.22706\n",
      "[10]\ttrain-rmse:0.20438\teval-rmse:0.21504\n",
      "[11]\ttrain-rmse:0.19280\teval-rmse:0.20476\n",
      "[12]\ttrain-rmse:0.18272\teval-rmse:0.19600\n",
      "[13]\ttrain-rmse:0.17398\teval-rmse:0.18857\n",
      "[14]\ttrain-rmse:0.16643\teval-rmse:0.18230\n",
      "[15]\ttrain-rmse:0.15991\teval-rmse:0.17704\n",
      "[16]\ttrain-rmse:0.15428\teval-rmse:0.17263\n",
      "[17]\ttrain-rmse:0.14942\teval-rmse:0.16895\n",
      "[18]\ttrain-rmse:0.14522\teval-rmse:0.16589\n",
      "[19]\ttrain-rmse:0.14158\teval-rmse:0.16334\n",
      "[20]\ttrain-rmse:0.13841\teval-rmse:0.16122\n",
      "[21]\ttrain-rmse:0.13564\teval-rmse:0.15946\n",
      "[22]\ttrain-rmse:0.13321\teval-rmse:0.15801\n",
      "[23]\ttrain-rmse:0.13107\teval-rmse:0.15678\n"
     ]
    }
   ],
   "source": [
    "params = {\"alpha\":2,\"subsample\":0.829,'min_child_weight':12,'gamma':0.1,'max_depth': 4,'eta':0.1,\"objective\": \"reg:squarederror\", \"tree_method\": \"gpu_hist\"}\n",
    "evalist = [(dtrain_reg, 'train'), (dtest_reg, 'eval')]\n",
    "n = 25\n",
    "bst_WM = xgb.train(params, dtrain_reg, n, evalist,early_stopping_rounds=10)"
   ]
  },
  {
   "cell_type": "code",
   "execution_count": null,
   "id": "d5f87f73",
   "metadata": {},
   "outputs": [],
   "source": [
    "# bst_WM.save_model(\"WM_model\")"
   ]
  },
  {
   "cell_type": "markdown",
   "id": "5b601238",
   "metadata": {},
   "source": [
    "# Dishwasher"
   ]
  },
  {
   "cell_type": "code",
   "execution_count": null,
   "id": "09668a84",
   "metadata": {},
   "outputs": [],
   "source": [
    "# X_train, X_test, y_train, y_test = train_test_split(X, Y_DW, random_state=2)"
   ]
  },
  {
   "cell_type": "code",
   "execution_count": null,
   "id": "637dd6cb",
   "metadata": {},
   "outputs": [],
   "source": [
    "# dtrain_reg = xgb.DMatrix(X_train, y_train)\n",
    "\n",
    "# dtest_reg = xgb.DMatrix(X_test, y_test)"
   ]
  },
  {
   "cell_type": "code",
   "execution_count": null,
   "id": "4bc888ad",
   "metadata": {},
   "outputs": [],
   "source": [
    "# params = {\"alpha\":2,\"subsample\":0.829,'min_child_weight':12,'gamma':0.1,'max_depth': 4,'eta':0.1,\"objective\": \"reg:squarederror\", \"tree_method\": \"gpu_hist\"}\n",
    "# evalist = [(dtrain_reg, 'train'), (dtest_reg, 'eval')]\n",
    "# n = 100\n",
    "# bst_DW = xgb.train(params, dtrain_reg, n, evalist,early_stopping_rounds=10)"
   ]
  },
  {
   "cell_type": "code",
   "execution_count": null,
   "id": "0ffbb292",
   "metadata": {},
   "outputs": [],
   "source": [
    "# bst_DW.save_model(\"DW_model\")"
   ]
  },
  {
   "cell_type": "markdown",
   "id": "281c9d84",
   "metadata": {},
   "source": [
    "# Tumble Dryer"
   ]
  },
  {
   "cell_type": "code",
   "execution_count": null,
   "id": "aad63353",
   "metadata": {},
   "outputs": [],
   "source": [
    "# X_train, X_test, y_train, y_test = train_test_split(X, Y_TD, random_state=3)"
   ]
  },
  {
   "cell_type": "code",
   "execution_count": null,
   "id": "90a5f958",
   "metadata": {},
   "outputs": [],
   "source": [
    "# dtrain_reg = xgb.DMatrix(X_train, y_train)\n",
    "\n",
    "# dtest_reg = xgb.DMatrix(X_test, y_test)"
   ]
  },
  {
   "cell_type": "code",
   "execution_count": null,
   "id": "096e915d",
   "metadata": {},
   "outputs": [],
   "source": [
    "# params = {\"alpha\":2,\"subsample\":0.829,'min_child_weight':12,'gamma':0.1,'max_depth': 4,'eta':0.1,\"objective\": \"reg:squarederror\", \"tree_method\": \"gpu_hist\"}\n",
    "# evalist = [(dtrain_reg, 'train'), (dtest_reg, 'eval')]\n",
    "# n = 100\n",
    "# bst_TD = xgb.train(params, dtrain_reg, n, evalist,early_stopping_rounds=10)"
   ]
  },
  {
   "cell_type": "code",
   "execution_count": null,
   "id": "ce80e682",
   "metadata": {},
   "outputs": [],
   "source": [
    "# bst_TD.save_model(\"TD_model\")"
   ]
  },
  {
   "cell_type": "markdown",
   "id": "dd5c27a6",
   "metadata": {},
   "source": [
    "# Microwave"
   ]
  },
  {
   "cell_type": "code",
   "execution_count": null,
   "id": "fc2b2c93",
   "metadata": {},
   "outputs": [],
   "source": [
    "# X_train, X_test, y_train, y_test = train_test_split(X, Y_MW, random_state=4)"
   ]
  },
  {
   "cell_type": "code",
   "execution_count": null,
   "id": "8617f95e",
   "metadata": {},
   "outputs": [],
   "source": [
    "# dtrain_reg = xgb.DMatrix(X_train, y_train)\n",
    "\n",
    "# dtest_reg = xgb.DMatrix(X_test, y_test)"
   ]
  },
  {
   "cell_type": "code",
   "execution_count": null,
   "id": "7b7e2f92",
   "metadata": {},
   "outputs": [],
   "source": [
    "# params = {\"alpha\":2,\"subsample\":0.829,'min_child_weight':12,'gamma':0.1,'max_depth': 4,'eta':0.1,\"objective\": \"reg:squarederror\", \"tree_method\": \"gpu_hist\"}\n",
    "# evalist = [(dtrain_reg, 'train'), (dtest_reg, 'eval')]\n",
    "# n = 100\n",
    "# bst_MW = xgb.train(params, dtrain_reg, n, evalist,early_stopping_rounds=10)"
   ]
  },
  {
   "cell_type": "code",
   "execution_count": null,
   "id": "f570c3fc",
   "metadata": {},
   "outputs": [],
   "source": [
    "# bst_MW.save_model(\"MW_model\")"
   ]
  },
  {
   "cell_type": "markdown",
   "id": "d2f3e984",
   "metadata": {},
   "source": [
    "# Kettle"
   ]
  },
  {
   "cell_type": "code",
   "execution_count": null,
   "id": "158bf01f",
   "metadata": {},
   "outputs": [],
   "source": [
    "# X_train, X_test, y_train, y_test = train_test_split(X, Y_K, random_state=5)"
   ]
  },
  {
   "cell_type": "code",
   "execution_count": null,
   "id": "2c6dadd6",
   "metadata": {},
   "outputs": [],
   "source": [
    "# dtrain_reg = xgb.DMatrix(X_train, y_train)\n",
    "\n",
    "# dtest_reg = xgb.DMatrix(X_test, y_test)"
   ]
  },
  {
   "cell_type": "code",
   "execution_count": null,
   "id": "68a5b8b2",
   "metadata": {},
   "outputs": [],
   "source": [
    "# params = {\"alpha\":2,\"subsample\":0.829,'min_child_weight':12,'gamma':0.1,'max_depth': 4,'eta':0.1,\"objective\": \"reg:squarederror\", \"tree_method\": \"gpu_hist\"}\n",
    "# evalist = [(dtrain_reg, 'train'), (dtest_reg, 'eval')]\n",
    "# n = 100\n",
    "# bst_K = xgb.train(params, dtrain_reg, n, evalist,early_stopping_rounds=10)"
   ]
  },
  {
   "cell_type": "code",
   "execution_count": null,
   "id": "4afe39eb",
   "metadata": {},
   "outputs": [],
   "source": [
    "# bst_K.save_model(\"K_model\")"
   ]
  }
 ],
 "metadata": {
  "kernelspec": {
   "display_name": "Python 3 (ipykernel)",
   "language": "python",
   "name": "python3"
  },
  "language_info": {
   "codemirror_mode": {
    "name": "ipython",
    "version": 3
   },
   "file_extension": ".py",
   "mimetype": "text/x-python",
   "name": "python",
   "nbconvert_exporter": "python",
   "pygments_lexer": "ipython3",
   "version": "3.10.10"
  }
 },
 "nbformat": 4,
 "nbformat_minor": 5
}
