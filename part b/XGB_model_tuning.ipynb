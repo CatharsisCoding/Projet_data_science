{
 "cells": [
  {
   "cell_type": "markdown",
   "id": "945f554f",
   "metadata": {},
   "source": [
    "# Imports"
   ]
  },
  {
   "cell_type": "code",
   "execution_count": 141,
   "id": "ee5eadf7",
   "metadata": {},
   "outputs": [],
   "source": [
    "import pandas as pd\n",
    "import numpy as np\n",
    "import xgboost as xgb\n",
    "from sklearn.model_selection import train_test_split\n",
    "from sklearn.metrics import mean_squared_error,accuracy_score\n",
    "from sklearn.preprocessing import MinMaxScaler\n",
    "from sklearn.model_selection import GridSearchCV\n",
    "from pandas import concat"
   ]
  },
  {
   "cell_type": "markdown",
   "id": "e299638b",
   "metadata": {},
   "source": [
    "# Data Reading and Preparation"
   ]
  },
  {
   "cell_type": "code",
   "execution_count": 142,
   "id": "520f87c5",
   "metadata": {},
   "outputs": [],
   "source": [
    "train  = pd.read_csv('InputTrain.csv')\n",
    "test = pd.read_csv('InputTest.csv')\n",
    "WM = pd.read_csv('StepTwo_LabelTrain_WashingMachine.csv')\n",
    "DW = pd.read_csv('StepTwo_LabelTrain_Dishwasher.csv')\n",
    "TD = pd.read_csv('StepTwo_LabelTrain_TumbleDryer.csv')\n",
    "MW = pd.read_csv('StepTwo_LabelTrain_Microwave.csv')\n",
    "K= pd.read_csv('StepTwo_LabelTrain_Kettle.csv')"
   ]
  },
  {
   "cell_type": "code",
   "execution_count": 143,
   "id": "58e8764b",
   "metadata": {},
   "outputs": [],
   "source": [
    "train = train.set_index('Index')\n",
    "test =  test.set_index('Index')\n",
    "WM = WM.set_index('Index')\n",
    "DW = DW.set_index('Index')\n",
    "TD = TD.set_index('Index')\n",
    "MW = MW.set_index('Index')\n",
    "K = K.set_index('Index')"
   ]
  },
  {
   "cell_type": "code",
   "execution_count": 144,
   "id": "2cba078a",
   "metadata": {},
   "outputs": [],
   "source": [
    "X = train.drop('House_id', axis=1)\n",
    "Y_WM = WM.drop('House_id',axis=1)\n",
    "Y_DW = DW.drop('House_id',axis=1)\n",
    "Y_TD = TD.drop('House_id',axis=1)\n",
    "Y_MW = MW.drop('House_id',axis=1)\n",
    "Y_K = K.drop('House_id',axis=1)"
   ]
  },
  {
   "cell_type": "markdown",
   "id": "2b75d285",
   "metadata": {},
   "source": [
    "# XGBoost Algorithm"
   ]
  },
  {
   "cell_type": "markdown",
   "id": "fedbb120",
   "metadata": {},
   "source": [
    "### Washing Machine"
   ]
  },
  {
   "cell_type": "code",
   "execution_count": 150,
   "id": "b6d636b3",
   "metadata": {},
   "outputs": [],
   "source": [
    "X_train, X_test, y_train, y_test = train_test_split(X, Y_WM, random_state=1)"
   ]
  },
  {
   "cell_type": "code",
   "execution_count": 151,
   "id": "e567529b",
   "metadata": {},
   "outputs": [],
   "source": [
    "dtrain_reg = xgb.DMatrix(X_train, y_train)\n",
    "\n",
    "dtest_reg = xgb.DMatrix(X_test, y_test)"
   ]
  },
  {
   "cell_type": "code",
   "execution_count": 152,
   "id": "7554f317",
   "metadata": {},
   "outputs": [
    {
     "name": "stdout",
     "output_type": "stream",
     "text": [
      "[0]\ttrain-rmse:0.42966\teval-rmse:0.43831\n",
      "[1]\ttrain-rmse:0.37550\teval-rmse:0.39368\n",
      "[2]\ttrain-rmse:0.33393\teval-rmse:0.36214\n",
      "[3]\ttrain-rmse:0.30203\teval-rmse:0.34040\n",
      "[4]\ttrain-rmse:0.27736\teval-rmse:0.32567\n",
      "[5]\ttrain-rmse:0.25809\teval-rmse:0.31587\n",
      "[6]\ttrain-rmse:0.24275\teval-rmse:0.30938\n",
      "[7]\ttrain-rmse:0.23036\teval-rmse:0.30510\n",
      "[8]\ttrain-rmse:0.22013\teval-rmse:0.30235\n",
      "[9]\ttrain-rmse:0.21152\teval-rmse:0.30060\n",
      "[10]\ttrain-rmse:0.20413\teval-rmse:0.29945\n",
      "[11]\ttrain-rmse:0.19765\teval-rmse:0.29879\n",
      "[12]\ttrain-rmse:0.19185\teval-rmse:0.29834\n",
      "[13]\ttrain-rmse:0.18659\teval-rmse:0.29808\n",
      "[14]\ttrain-rmse:0.18180\teval-rmse:0.29796\n",
      "[15]\ttrain-rmse:0.17738\teval-rmse:0.29790\n",
      "[16]\ttrain-rmse:0.17329\teval-rmse:0.29785\n",
      "[17]\ttrain-rmse:0.16947\teval-rmse:0.29782\n",
      "[18]\ttrain-rmse:0.16590\teval-rmse:0.29781\n"
     ]
    }
   ],
   "source": [
    "params = {\"subsample\":0.829,'min_child_weight':8,'alpha':2,'max_depth': 4,'eta' : 0.2,\"objective\": \"reg:squarederror\", \"tree_method\": \"gpu_hist\"}\n",
    "evalist = [(dtrain_reg, 'train'), (dtest_reg, 'eval')]\n",
    "n = 100\n",
    "bst_WM = xgb.train(params, dtrain_reg, n, evals = evalist,early_stopping_rounds=1)"
   ]
  },
  {
   "cell_type": "code",
   "execution_count": 153,
   "id": "d5f87f73",
   "metadata": {},
   "outputs": [],
   "source": [
    "bst_WM.save_model(\"WM_model\")"
   ]
  },
  {
   "cell_type": "markdown",
   "id": "5b601238",
   "metadata": {},
   "source": [
    "### Dishwasher"
   ]
  },
  {
   "cell_type": "code",
   "execution_count": 154,
   "id": "09668a84",
   "metadata": {},
   "outputs": [],
   "source": [
    "X_train, X_test, y_train, y_test = train_test_split(X, Y_DW, random_state=2)"
   ]
  },
  {
   "cell_type": "code",
   "execution_count": 155,
   "id": "637dd6cb",
   "metadata": {},
   "outputs": [],
   "source": [
    "dtrain_reg = xgb.DMatrix(X_train, y_train)\n",
    "\n",
    "dtest_reg = xgb.DMatrix(X_test, y_test)"
   ]
  },
  {
   "cell_type": "code",
   "execution_count": 156,
   "id": "4bc888ad",
   "metadata": {},
   "outputs": [
    {
     "name": "stderr",
     "output_type": "stream",
     "text": [
      "C:\\Users\\moham\\AppData\\Roaming\\Python\\Python310\\site-packages\\xgboost\\core.py:617: FutureWarning: Pass `evals` as keyword args.\n",
      "  warnings.warn(msg, FutureWarning)\n"
     ]
    },
    {
     "name": "stdout",
     "output_type": "stream",
     "text": [
      "[0]\ttrain-rmse:0.41946\teval-rmse:0.42348\n",
      "[1]\ttrain-rmse:0.35671\teval-rmse:0.36546\n",
      "[2]\ttrain-rmse:0.30798\teval-rmse:0.32205\n",
      "[3]\ttrain-rmse:0.27042\teval-rmse:0.29004\n",
      "[4]\ttrain-rmse:0.24151\teval-rmse:0.26705\n",
      "[5]\ttrain-rmse:0.21934\teval-rmse:0.25067\n",
      "[6]\ttrain-rmse:0.20217\teval-rmse:0.23926\n",
      "[7]\ttrain-rmse:0.18879\teval-rmse:0.23130\n",
      "[8]\ttrain-rmse:0.17812\teval-rmse:0.22584\n",
      "[9]\ttrain-rmse:0.16942\teval-rmse:0.22208\n",
      "[10]\ttrain-rmse:0.16224\teval-rmse:0.21953\n",
      "[11]\ttrain-rmse:0.15620\teval-rmse:0.21778\n",
      "[12]\ttrain-rmse:0.15102\teval-rmse:0.21656\n",
      "[13]\ttrain-rmse:0.14644\teval-rmse:0.21572\n",
      "[14]\ttrain-rmse:0.14237\teval-rmse:0.21510\n",
      "[15]\ttrain-rmse:0.13875\teval-rmse:0.21464\n",
      "[16]\ttrain-rmse:0.13547\teval-rmse:0.21431\n",
      "[17]\ttrain-rmse:0.13246\teval-rmse:0.21403\n",
      "[18]\ttrain-rmse:0.12964\teval-rmse:0.21383\n",
      "[19]\ttrain-rmse:0.12699\teval-rmse:0.21365\n",
      "[20]\ttrain-rmse:0.12452\teval-rmse:0.21351\n",
      "[21]\ttrain-rmse:0.12220\teval-rmse:0.21338\n",
      "[22]\ttrain-rmse:0.11998\teval-rmse:0.21326\n",
      "[23]\ttrain-rmse:0.11789\teval-rmse:0.21317\n",
      "[24]\ttrain-rmse:0.11587\teval-rmse:0.21308\n"
     ]
    }
   ],
   "source": [
    "params = {\"subsample\":0.829,'min_child_weight':8,'alpha':2,'max_depth': 4,'eta' : 0.2,\"objective\": \"reg:squarederror\", \"tree_method\": \"gpu_hist\"}\n",
    "evalist = [(dtrain_reg, 'train'), (dtest_reg, 'eval')]\n",
    "n = 100\n",
    "bst_DW = xgb.train(params, dtrain_reg, n, evalist,early_stopping_rounds=1)"
   ]
  },
  {
   "cell_type": "code",
   "execution_count": 157,
   "id": "0ffbb292",
   "metadata": {},
   "outputs": [],
   "source": [
    "bst_DW.save_model(\"DW_model\")"
   ]
  },
  {
   "cell_type": "markdown",
   "id": "281c9d84",
   "metadata": {},
   "source": [
    "### Tumble Dryer"
   ]
  },
  {
   "cell_type": "code",
   "execution_count": 158,
   "id": "aad63353",
   "metadata": {},
   "outputs": [],
   "source": [
    "X_train, X_test, y_train, y_test = train_test_split(X, Y_TD, random_state=3)"
   ]
  },
  {
   "cell_type": "code",
   "execution_count": 159,
   "id": "90a5f958",
   "metadata": {},
   "outputs": [],
   "source": [
    "dtrain_reg = xgb.DMatrix(X_train, y_train)\n",
    "\n",
    "dtest_reg = xgb.DMatrix(X_test, y_test)"
   ]
  },
  {
   "cell_type": "code",
   "execution_count": 160,
   "id": "096e915d",
   "metadata": {},
   "outputs": [
    {
     "name": "stdout",
     "output_type": "stream",
     "text": [
      "[0]\ttrain-rmse:0.40804\teval-rmse:0.41009\n",
      "[1]\ttrain-rmse:0.33527\teval-rmse:0.34005\n",
      "[2]\ttrain-rmse:0.27785\teval-rmse:0.28606\n",
      "[3]\ttrain-rmse:0.23281\teval-rmse:0.24504\n",
      "[4]\ttrain-rmse:0.19763\teval-rmse:0.21448\n",
      "[5]\ttrain-rmse:0.17028\teval-rmse:0.19224\n",
      "[6]\ttrain-rmse:0.14918\teval-rmse:0.17636\n",
      "[7]\ttrain-rmse:0.13300\teval-rmse:0.16525\n",
      "[8]\ttrain-rmse:0.12057\teval-rmse:0.15767\n",
      "[9]\ttrain-rmse:0.11110\teval-rmse:0.15253\n",
      "[10]\ttrain-rmse:0.10384\teval-rmse:0.14909\n",
      "[11]\ttrain-rmse:0.09820\teval-rmse:0.14683\n",
      "[12]\ttrain-rmse:0.09374\teval-rmse:0.14535\n",
      "[13]\ttrain-rmse:0.09015\teval-rmse:0.14439\n",
      "[14]\ttrain-rmse:0.08710\teval-rmse:0.14376\n",
      "[15]\ttrain-rmse:0.08438\teval-rmse:0.14335\n",
      "[16]\ttrain-rmse:0.08192\teval-rmse:0.14304\n",
      "[17]\ttrain-rmse:0.07968\teval-rmse:0.14282\n",
      "[18]\ttrain-rmse:0.07762\teval-rmse:0.14264\n",
      "[19]\ttrain-rmse:0.07570\teval-rmse:0.14250\n",
      "[20]\ttrain-rmse:0.07392\teval-rmse:0.14237\n",
      "[21]\ttrain-rmse:0.07226\teval-rmse:0.14226\n"
     ]
    },
    {
     "ename": "KeyboardInterrupt",
     "evalue": "",
     "output_type": "error",
     "traceback": [
      "\u001b[1;31m---------------------------------------------------------------------------\u001b[0m",
      "\u001b[1;31mKeyboardInterrupt\u001b[0m                         Traceback (most recent call last)",
      "Cell \u001b[1;32mIn[160], line 4\u001b[0m\n\u001b[0;32m      2\u001b[0m evalist \u001b[38;5;241m=\u001b[39m [(dtrain_reg, \u001b[38;5;124m'\u001b[39m\u001b[38;5;124mtrain\u001b[39m\u001b[38;5;124m'\u001b[39m), (dtest_reg, \u001b[38;5;124m'\u001b[39m\u001b[38;5;124meval\u001b[39m\u001b[38;5;124m'\u001b[39m)]\n\u001b[0;32m      3\u001b[0m n \u001b[38;5;241m=\u001b[39m \u001b[38;5;241m25\u001b[39m\n\u001b[1;32m----> 4\u001b[0m bst_TD \u001b[38;5;241m=\u001b[39m \u001b[43mxgb\u001b[49m\u001b[38;5;241;43m.\u001b[39;49m\u001b[43mtrain\u001b[49m\u001b[43m(\u001b[49m\u001b[43mparams\u001b[49m\u001b[43m,\u001b[49m\u001b[43m \u001b[49m\u001b[43mdtrain_reg\u001b[49m\u001b[43m,\u001b[49m\u001b[43m \u001b[49m\u001b[43mn\u001b[49m\u001b[43m,\u001b[49m\u001b[43m \u001b[49m\u001b[43mevalist\u001b[49m\u001b[43m,\u001b[49m\u001b[43mearly_stopping_rounds\u001b[49m\u001b[38;5;241;43m=\u001b[39;49m\u001b[38;5;241;43m1\u001b[39;49m\u001b[43m)\u001b[49m\n",
      "File \u001b[1;32m~\\AppData\\Roaming\\Python\\Python310\\site-packages\\xgboost\\core.py:620\u001b[0m, in \u001b[0;36mrequire_keyword_args.<locals>.throw_if.<locals>.inner_f\u001b[1;34m(*args, **kwargs)\u001b[0m\n\u001b[0;32m    618\u001b[0m \u001b[38;5;28;01mfor\u001b[39;00m k, arg \u001b[38;5;129;01min\u001b[39;00m \u001b[38;5;28mzip\u001b[39m(sig\u001b[38;5;241m.\u001b[39mparameters, args):\n\u001b[0;32m    619\u001b[0m     kwargs[k] \u001b[38;5;241m=\u001b[39m arg\n\u001b[1;32m--> 620\u001b[0m \u001b[38;5;28;01mreturn\u001b[39;00m func(\u001b[38;5;241m*\u001b[39m\u001b[38;5;241m*\u001b[39mkwargs)\n",
      "File \u001b[1;32m~\\AppData\\Roaming\\Python\\Python310\\site-packages\\xgboost\\training.py:185\u001b[0m, in \u001b[0;36mtrain\u001b[1;34m(params, dtrain, num_boost_round, evals, obj, feval, maximize, early_stopping_rounds, evals_result, verbose_eval, xgb_model, callbacks, custom_metric)\u001b[0m\n\u001b[0;32m    183\u001b[0m \u001b[38;5;28;01mif\u001b[39;00m cb_container\u001b[38;5;241m.\u001b[39mbefore_iteration(bst, i, dtrain, evals):\n\u001b[0;32m    184\u001b[0m     \u001b[38;5;28;01mbreak\u001b[39;00m\n\u001b[1;32m--> 185\u001b[0m \u001b[43mbst\u001b[49m\u001b[38;5;241;43m.\u001b[39;49m\u001b[43mupdate\u001b[49m\u001b[43m(\u001b[49m\u001b[43mdtrain\u001b[49m\u001b[43m,\u001b[49m\u001b[43m \u001b[49m\u001b[43mi\u001b[49m\u001b[43m,\u001b[49m\u001b[43m \u001b[49m\u001b[43mobj\u001b[49m\u001b[43m)\u001b[49m\n\u001b[0;32m    186\u001b[0m \u001b[38;5;28;01mif\u001b[39;00m cb_container\u001b[38;5;241m.\u001b[39mafter_iteration(bst, i, dtrain, evals):\n\u001b[0;32m    187\u001b[0m     \u001b[38;5;28;01mbreak\u001b[39;00m\n",
      "File \u001b[1;32m~\\AppData\\Roaming\\Python\\Python310\\site-packages\\xgboost\\core.py:1918\u001b[0m, in \u001b[0;36mBooster.update\u001b[1;34m(self, dtrain, iteration, fobj)\u001b[0m\n\u001b[0;32m   1915\u001b[0m \u001b[38;5;28mself\u001b[39m\u001b[38;5;241m.\u001b[39m_validate_dmatrix_features(dtrain)\n\u001b[0;32m   1917\u001b[0m \u001b[38;5;28;01mif\u001b[39;00m fobj \u001b[38;5;129;01mis\u001b[39;00m \u001b[38;5;28;01mNone\u001b[39;00m:\n\u001b[1;32m-> 1918\u001b[0m     _check_call(\u001b[43m_LIB\u001b[49m\u001b[38;5;241;43m.\u001b[39;49m\u001b[43mXGBoosterUpdateOneIter\u001b[49m\u001b[43m(\u001b[49m\u001b[38;5;28;43mself\u001b[39;49m\u001b[38;5;241;43m.\u001b[39;49m\u001b[43mhandle\u001b[49m\u001b[43m,\u001b[49m\n\u001b[0;32m   1919\u001b[0m \u001b[43m                                            \u001b[49m\u001b[43mctypes\u001b[49m\u001b[38;5;241;43m.\u001b[39;49m\u001b[43mc_int\u001b[49m\u001b[43m(\u001b[49m\u001b[43miteration\u001b[49m\u001b[43m)\u001b[49m\u001b[43m,\u001b[49m\n\u001b[0;32m   1920\u001b[0m \u001b[43m                                            \u001b[49m\u001b[43mdtrain\u001b[49m\u001b[38;5;241;43m.\u001b[39;49m\u001b[43mhandle\u001b[49m\u001b[43m)\u001b[49m)\n\u001b[0;32m   1921\u001b[0m \u001b[38;5;28;01melse\u001b[39;00m:\n\u001b[0;32m   1922\u001b[0m     pred \u001b[38;5;241m=\u001b[39m \u001b[38;5;28mself\u001b[39m\u001b[38;5;241m.\u001b[39mpredict(dtrain, output_margin\u001b[38;5;241m=\u001b[39m\u001b[38;5;28;01mTrue\u001b[39;00m, training\u001b[38;5;241m=\u001b[39m\u001b[38;5;28;01mTrue\u001b[39;00m)\n",
      "\u001b[1;31mKeyboardInterrupt\u001b[0m: "
     ]
    }
   ],
   "source": [
    "params = {\"subsample\":0.829,'min_child_weight':8,'alpha':2,'max_depth': 4,'eta' : 0.2,\"objective\": \"reg:squarederror\", \"tree_method\": \"gpu_hist\"}\n",
    "evalist = [(dtrain_reg, 'train'), (dtest_reg, 'eval')]\n",
    "n = 100\n",
    "bst_TD = xgb.train(params, dtrain_reg, n, evalist,early_stopping_rounds=1)"
   ]
  },
  {
   "cell_type": "code",
   "execution_count": null,
   "id": "ce80e682",
   "metadata": {},
   "outputs": [],
   "source": [
    "bst_TD.save_model(\"TD_model\")"
   ]
  },
  {
   "cell_type": "markdown",
   "id": "dd5c27a6",
   "metadata": {},
   "source": [
    "### Microwave"
   ]
  },
  {
   "cell_type": "code",
   "execution_count": null,
   "id": "fc2b2c93",
   "metadata": {},
   "outputs": [],
   "source": [
    "X_train, X_test, y_train, y_test = train_test_split(X, Y_MW, random_state=4)"
   ]
  },
  {
   "cell_type": "code",
   "execution_count": null,
   "id": "8617f95e",
   "metadata": {},
   "outputs": [],
   "source": [
    "dtrain_reg = xgb.DMatrix(X_train, y_train)\n",
    "\n",
    "dtest_reg = xgb.DMatrix(X_test, y_test)"
   ]
  },
  {
   "cell_type": "code",
   "execution_count": null,
   "id": "7b7e2f92",
   "metadata": {},
   "outputs": [],
   "source": [
    "params = {\"subsample\":0.829,'min_child_weight':8,'alpha':2,'max_depth': 4,'eta' : 0.2,\"objective\": \"reg:squarederror\", \"tree_method\": \"gpu_hist\"}\n",
    "evalist = [(dtrain_reg, 'train'), (dtest_reg, 'eval')]\n",
    "n = 100\n",
    "bst_MW = xgb.train(params, dtrain_reg, n, evalist,early_stopping_rounds=1)"
   ]
  },
  {
   "cell_type": "code",
   "execution_count": null,
   "id": "f570c3fc",
   "metadata": {},
   "outputs": [],
   "source": [
    "bst_MW.save_model(\"MW_model\")"
   ]
  },
  {
   "cell_type": "markdown",
   "id": "d2f3e984",
   "metadata": {},
   "source": [
    "### Kettle"
   ]
  },
  {
   "cell_type": "code",
   "execution_count": null,
   "id": "158bf01f",
   "metadata": {},
   "outputs": [],
   "source": [
    "X_train, X_test, y_train, y_test = train_test_split(X, Y_K, random_state=5)"
   ]
  },
  {
   "cell_type": "code",
   "execution_count": null,
   "id": "2c6dadd6",
   "metadata": {},
   "outputs": [],
   "source": [
    "dtrain_reg = xgb.DMatrix(X_train, y_train)\n",
    "\n",
    "dtest_reg = xgb.DMatrix(X_test, y_test)"
   ]
  },
  {
   "cell_type": "code",
   "execution_count": null,
   "id": "68a5b8b2",
   "metadata": {},
   "outputs": [],
   "source": [
    "params = {\"subsample\":0.829,'min_child_weight':8,'alpha':2,'max_depth': 4,'eta' : 0.2,\"objective\": \"reg:squarederror\", \"tree_method\": \"gpu_hist\"}\n",
    "evalist = [(dtrain_reg, 'train'), (dtest_reg, 'eval')]\n",
    "n = 100\n",
    "bst_K = xgb.train(params, dtrain_reg, n, evalist,early_stopping_rounds=1)"
   ]
  },
  {
   "cell_type": "code",
   "execution_count": null,
   "id": "4afe39eb",
   "metadata": {},
   "outputs": [],
   "source": [
    "bst_K.save_model(\"K_model\")"
   ]
  }
 ],
 "metadata": {
  "kernelspec": {
   "display_name": "Python 3 (ipykernel)",
   "language": "python",
   "name": "python3"
  },
  "language_info": {
   "codemirror_mode": {
    "name": "ipython",
    "version": 3
   },
   "file_extension": ".py",
   "mimetype": "text/x-python",
   "name": "python",
   "nbconvert_exporter": "python",
   "pygments_lexer": "ipython3",
   "version": "3.10.10"
  }
 },
 "nbformat": 4,
 "nbformat_minor": 5
}
