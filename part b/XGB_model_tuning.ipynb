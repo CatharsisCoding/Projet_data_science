{
 "cells": [
  {
   "cell_type": "code",
   "execution_count": 1,
   "id": "ee5eadf7",
   "metadata": {},
   "outputs": [],
   "source": [
    "import pandas as pd\n",
    "import numpy as np\n",
    "import xgboost as xgb\n",
    "from sklearn.model_selection import train_test_split\n",
    "from sklearn.metrics import mean_squared_error,accuracy_score\n",
    "from sklearn.preprocessing import MinMaxScaler\n",
    "from sklearn.model_selection import GridSearchCV"
   ]
  },
  {
   "cell_type": "code",
   "execution_count": 2,
   "id": "520f87c5",
   "metadata": {},
   "outputs": [],
   "source": [
    "train  = pd.read_csv('InputTrain.csv')\n",
    "test = pd.read_csv('InputTest.csv')\n",
    "WM = pd.read_csv('StepTwo_LabelTrain_WashingMachine.csv')\n",
    "DW = pd.read_csv('StepTwo_LabelTrain_Dishwasher.csv')\n",
    "TD = pd.read_csv('StepTwo_LabelTrain_TumbleDryer.csv')\n",
    "MW = pd.read_csv('StepTwo_LabelTrain_Microwave.csv')\n",
    "K= pd.read_csv('StepTwo_LabelTrain_Kettle.csv')"
   ]
  },
  {
   "cell_type": "code",
   "execution_count": 3,
   "id": "58e8764b",
   "metadata": {},
   "outputs": [],
   "source": [
    "train = train.set_index('Index')\n",
    "test =  test.set_index('Index')\n",
    "WM = WM.set_index('Index')\n",
    "DW = DW.set_index('Index')\n",
    "TD = TD.set_index('Index')\n",
    "MW = MW.set_index('Index')\n",
    "K = K.set_index('Index')"
   ]
  },
  {
   "cell_type": "code",
   "execution_count": 4,
   "id": "0deb1b3e",
   "metadata": {},
   "outputs": [],
   "source": [
    "X = train.drop('House_id', axis=1)\n",
    "Y_WM = WM.drop('House_id',axis=1)\n",
    "Y_DW = DW.drop('House_id',axis=1)\n",
    "Y_TD = TD.drop('House_id',axis=1)\n",
    "Y_MW = MW.drop('House_id',axis=1)\n",
    "Y_K = K.drop('House_id',axis=1)\n",
    "test_X = test.drop(\"House_id\",axis=1)"
   ]
  },
  {
   "cell_type": "markdown",
   "id": "fce6ee75",
   "metadata": {},
   "source": [
    "# Washing Machine"
   ]
  },
  {
   "cell_type": "code",
   "execution_count": 19,
   "id": "b6d636b3",
   "metadata": {},
   "outputs": [],
   "source": [
    "X_train, X_test, y_train, y_test = train_test_split(X, Y_WM, random_state=1)"
   ]
  },
  {
   "cell_type": "code",
   "execution_count": 20,
   "id": "e567529b",
   "metadata": {},
   "outputs": [],
   "source": [
    "dtrain_reg = xgb.DMatrix(X_train, y_train)\n",
    "\n",
    "dtest_reg = xgb.DMatrix(X_test, y_test)"
   ]
  },
  {
   "cell_type": "markdown",
   "id": "bb9d877d",
   "metadata": {},
   "source": [
    "'eta' : 0.2,'max_depth': 4,\"alpha\":2,\"subsample\":0.829,'min_child_weight':12,'gamma':0.1,'max_depth': 4,\n",
    "\n",
    "eta : 0.2 -----> eval-rmse:0.15345\n",
    " 'max_depth': 3 ----> eval-rmse:0.15435\n",
    " \"alpha\":1,'max_depth': 4,'eta' : 0.2 -------> eval-rmse:0.15174\n",
    " \"alpha\":2,'max_depth': 4,'eta' : 0.2 -------> eval-rmse:0.15143"
   ]
  },
  {
   "cell_type": "code",
   "execution_count": 21,
   "id": "7554f317",
   "metadata": {},
   "outputs": [
    {
     "name": "stdout",
     "output_type": "stream",
     "text": [
      "[0]\ttrain-rmse:0.40958\teval-rmse:0.41115\n",
      "[1]\ttrain-rmse:0.33871\teval-rmse:0.34220\n",
      "[2]\ttrain-rmse:0.28356\teval-rmse:0.28936\n",
      "[3]\ttrain-rmse:0.24106\teval-rmse:0.24953\n",
      "[4]\ttrain-rmse:0.20867\teval-rmse:0.22009\n",
      "[5]\ttrain-rmse:0.18429\teval-rmse:0.19882\n",
      "[6]\ttrain-rmse:0.16617\teval-rmse:0.18381\n",
      "[7]\ttrain-rmse:0.15281\teval-rmse:0.17340\n",
      "[8]\ttrain-rmse:0.14298\teval-rmse:0.16632\n",
      "[9]\ttrain-rmse:0.13573\teval-rmse:0.16157\n",
      "[10]\ttrain-rmse:0.13029\teval-rmse:0.15837\n",
      "[11]\ttrain-rmse:0.12609\teval-rmse:0.15620\n",
      "[12]\ttrain-rmse:0.12276\teval-rmse:0.15475\n",
      "[13]\ttrain-rmse:0.12005\teval-rmse:0.15374\n",
      "[14]\ttrain-rmse:0.11777\teval-rmse:0.15302\n",
      "[15]\ttrain-rmse:0.11582\teval-rmse:0.15251\n",
      "[16]\ttrain-rmse:0.11408\teval-rmse:0.15213\n",
      "[17]\ttrain-rmse:0.11248\teval-rmse:0.15184\n",
      "[18]\ttrain-rmse:0.11101\teval-rmse:0.15161\n",
      "[19]\ttrain-rmse:0.10964\teval-rmse:0.15143\n",
      "[20]\ttrain-rmse:0.10832\teval-rmse:0.15128\n",
      "[21]\ttrain-rmse:0.10708\teval-rmse:0.15115\n",
      "[22]\ttrain-rmse:0.10589\teval-rmse:0.15103\n",
      "[23]\ttrain-rmse:0.10473\teval-rmse:0.15093\n",
      "[24]\ttrain-rmse:0.10361\teval-rmse:0.15083\n",
      "[25]\ttrain-rmse:0.10254\teval-rmse:0.15074\n",
      "[26]\ttrain-rmse:0.10150\teval-rmse:0.15067\n",
      "[27]\ttrain-rmse:0.10048\teval-rmse:0.15060\n",
      "[28]\ttrain-rmse:0.09949\teval-rmse:0.15054\n",
      "[29]\ttrain-rmse:0.09852\teval-rmse:0.15047\n",
      "[30]\ttrain-rmse:0.09755\teval-rmse:0.15041\n",
      "[31]\ttrain-rmse:0.09662\teval-rmse:0.15034\n",
      "[32]\ttrain-rmse:0.09568\teval-rmse:0.15029\n",
      "[33]\ttrain-rmse:0.09477\teval-rmse:0.15023\n",
      "[34]\ttrain-rmse:0.09386\teval-rmse:0.15017\n",
      "[35]\ttrain-rmse:0.09296\teval-rmse:0.15012\n",
      "[36]\ttrain-rmse:0.09208\teval-rmse:0.15007\n",
      "[37]\ttrain-rmse:0.09121\teval-rmse:0.15002\n",
      "[38]\ttrain-rmse:0.09037\teval-rmse:0.14997\n",
      "[39]\ttrain-rmse:0.08953\teval-rmse:0.14992\n",
      "[40]\ttrain-rmse:0.08870\teval-rmse:0.14987\n",
      "[41]\ttrain-rmse:0.08789\teval-rmse:0.14982\n",
      "[42]\ttrain-rmse:0.08708\teval-rmse:0.14978\n",
      "[43]\ttrain-rmse:0.08629\teval-rmse:0.14974\n",
      "[44]\ttrain-rmse:0.08552\teval-rmse:0.14971\n",
      "[45]\ttrain-rmse:0.08476\teval-rmse:0.14966\n",
      "[46]\ttrain-rmse:0.08402\teval-rmse:0.14963\n",
      "[47]\ttrain-rmse:0.08329\teval-rmse:0.14959\n",
      "[48]\ttrain-rmse:0.08257\teval-rmse:0.14954\n",
      "[49]\ttrain-rmse:0.08186\teval-rmse:0.14951\n",
      "[50]\ttrain-rmse:0.08117\teval-rmse:0.14948\n",
      "[51]\ttrain-rmse:0.08049\teval-rmse:0.14944\n",
      "[52]\ttrain-rmse:0.07981\teval-rmse:0.14941\n",
      "[53]\ttrain-rmse:0.07915\teval-rmse:0.14938\n",
      "[54]\ttrain-rmse:0.07849\teval-rmse:0.14935\n",
      "[55]\ttrain-rmse:0.07785\teval-rmse:0.14932\n",
      "[56]\ttrain-rmse:0.07722\teval-rmse:0.14930\n",
      "[57]\ttrain-rmse:0.07659\teval-rmse:0.14927\n",
      "[58]\ttrain-rmse:0.07598\teval-rmse:0.14924\n",
      "[59]\ttrain-rmse:0.07538\teval-rmse:0.14921\n",
      "[60]\ttrain-rmse:0.07478\teval-rmse:0.14918\n",
      "[61]\ttrain-rmse:0.07419\teval-rmse:0.14916\n",
      "[62]\ttrain-rmse:0.07361\teval-rmse:0.14913\n",
      "[63]\ttrain-rmse:0.07305\teval-rmse:0.14911\n",
      "[64]\ttrain-rmse:0.07249\teval-rmse:0.14909\n",
      "[65]\ttrain-rmse:0.07194\teval-rmse:0.14907\n",
      "[66]\ttrain-rmse:0.07140\teval-rmse:0.14905\n",
      "[67]\ttrain-rmse:0.07087\teval-rmse:0.14902\n",
      "[68]\ttrain-rmse:0.07035\teval-rmse:0.14900\n",
      "[69]\ttrain-rmse:0.06984\teval-rmse:0.14898\n",
      "[70]\ttrain-rmse:0.06933\teval-rmse:0.14896\n",
      "[71]\ttrain-rmse:0.06883\teval-rmse:0.14894\n",
      "[72]\ttrain-rmse:0.06834\teval-rmse:0.14892\n",
      "[73]\ttrain-rmse:0.06785\teval-rmse:0.14890\n",
      "[74]\ttrain-rmse:0.06738\teval-rmse:0.14888\n",
      "[75]\ttrain-rmse:0.06692\teval-rmse:0.14886\n",
      "[76]\ttrain-rmse:0.06647\teval-rmse:0.14885\n",
      "[77]\ttrain-rmse:0.06602\teval-rmse:0.14883\n",
      "[78]\ttrain-rmse:0.06557\teval-rmse:0.14881\n",
      "[79]\ttrain-rmse:0.06513\teval-rmse:0.14880\n",
      "[80]\ttrain-rmse:0.06470\teval-rmse:0.14878\n",
      "[81]\ttrain-rmse:0.06427\teval-rmse:0.14877\n",
      "[82]\ttrain-rmse:0.06386\teval-rmse:0.14876\n",
      "[83]\ttrain-rmse:0.06344\teval-rmse:0.14875\n",
      "[84]\ttrain-rmse:0.06304\teval-rmse:0.14873\n",
      "[85]\ttrain-rmse:0.06263\teval-rmse:0.14872\n",
      "[86]\ttrain-rmse:0.06224\teval-rmse:0.14871\n",
      "[87]\ttrain-rmse:0.06185\teval-rmse:0.14870\n",
      "[88]\ttrain-rmse:0.06147\teval-rmse:0.14869\n",
      "[89]\ttrain-rmse:0.06109\teval-rmse:0.14868\n",
      "[90]\ttrain-rmse:0.06072\teval-rmse:0.14867\n",
      "[91]\ttrain-rmse:0.06035\teval-rmse:0.14866\n",
      "[92]\ttrain-rmse:0.05999\teval-rmse:0.14865\n",
      "[93]\ttrain-rmse:0.05964\teval-rmse:0.14864\n",
      "[94]\ttrain-rmse:0.05929\teval-rmse:0.14863\n",
      "[95]\ttrain-rmse:0.05894\teval-rmse:0.14862\n",
      "[96]\ttrain-rmse:0.05860\teval-rmse:0.14861\n",
      "[97]\ttrain-rmse:0.05826\teval-rmse:0.14860\n",
      "[98]\ttrain-rmse:0.05793\teval-rmse:0.14859\n",
      "[99]\ttrain-rmse:0.05760\teval-rmse:0.14859\n"
     ]
    }
   ],
   "source": [
    "params = {\"subsample\":0.829,'min_child_weight':8,'alpha':2,'max_depth': 4,'eta' : 0.2,\"objective\": \"reg:squarederror\", \"tree_method\": \"gpu_hist\"}\n",
    "evalist = [(dtrain_reg, 'train'), (dtest_reg, 'eval')]\n",
    "n = 100\n",
    "bst_WM = xgb.train(params, dtrain_reg, n, evals = evalist,early_stopping_rounds=1)"
   ]
  },
  {
   "cell_type": "code",
   "execution_count": 22,
   "id": "d5f87f73",
   "metadata": {},
   "outputs": [],
   "source": [
    "bst_WM.save_model(\"WM_model\")"
   ]
  },
  {
   "cell_type": "markdown",
   "id": "5b601238",
   "metadata": {},
   "source": [
    "# Dishwasher"
   ]
  },
  {
   "cell_type": "code",
   "execution_count": 5,
   "id": "09668a84",
   "metadata": {},
   "outputs": [],
   "source": [
    "X_train, X_test, y_train, y_test = train_test_split(X, Y_DW, random_state=2)"
   ]
  },
  {
   "cell_type": "code",
   "execution_count": 6,
   "id": "637dd6cb",
   "metadata": {},
   "outputs": [],
   "source": [
    "dtrain_reg = xgb.DMatrix(X_train, y_train)\n",
    "\n",
    "dtest_reg = xgb.DMatrix(X_test, y_test)\n",
    "'alpha':2,'max_depth': 4,"
   ]
  },
  {
   "cell_type": "code",
   "execution_count": null,
   "id": "4bc888ad",
   "metadata": {},
   "outputs": [
    {
     "name": "stdout",
     "output_type": "stream",
     "text": [
      "[0]\ttrain-rmse:0.45190\teval-rmse:0.45285\n",
      "[1]\ttrain-rmse:0.40866\teval-rmse:0.41067\n",
      "[2]\ttrain-rmse:0.36981\teval-rmse:0.37297\n"
     ]
    }
   ],
   "source": [
    "params = {\"subsample\":0.829,'min_child_weight':8,'eta' : 0.1 ,\"objective\": \"reg:squarederror\", \"tree_method\": \"gpu_hist\"}\n",
    "evalist = [(dtrain_reg, 'train'), (dtest_reg, 'eval')]\n",
    "n = 20\n",
    "bst_DW = xgb.train(params, dtrain_reg, n, evalist,early_stopping_rounds=1)"
   ]
  },
  {
   "cell_type": "code",
   "execution_count": 26,
   "id": "0ffbb292",
   "metadata": {},
   "outputs": [],
   "source": [
    "bst_DW.save_model(\"DW_model\")"
   ]
  },
  {
   "cell_type": "markdown",
   "id": "281c9d84",
   "metadata": {},
   "source": [
    "# Tumble Dryer"
   ]
  },
  {
   "cell_type": "code",
   "execution_count": 27,
   "id": "aad63353",
   "metadata": {},
   "outputs": [],
   "source": [
    "X_train, X_test, y_train, y_test = train_test_split(X, Y_TD, random_state=3)"
   ]
  },
  {
   "cell_type": "code",
   "execution_count": 28,
   "id": "90a5f958",
   "metadata": {},
   "outputs": [],
   "source": [
    "dtrain_reg = xgb.DMatrix(X_train, y_train)\n",
    "\n",
    "dtest_reg = xgb.DMatrix(X_test, y_test)"
   ]
  },
  {
   "cell_type": "code",
   "execution_count": 29,
   "id": "096e915d",
   "metadata": {},
   "outputs": [
    {
     "name": "stdout",
     "output_type": "stream",
     "text": [
      "[0]\ttrain-rmse:0.40172\teval-rmse:0.40224\n",
      "[1]\ttrain-rmse:0.32330\teval-rmse:0.32446\n",
      "[2]\ttrain-rmse:0.26079\teval-rmse:0.26277\n",
      "[3]\ttrain-rmse:0.21105\teval-rmse:0.21407\n",
      "[4]\ttrain-rmse:0.17156\teval-rmse:0.17586\n",
      "[5]\ttrain-rmse:0.14032\teval-rmse:0.14615\n",
      "[6]\ttrain-rmse:0.11575\teval-rmse:0.12336\n",
      "[7]\ttrain-rmse:0.09653\teval-rmse:0.10615\n",
      "[8]\ttrain-rmse:0.08162\teval-rmse:0.09342\n",
      "[9]\ttrain-rmse:0.07016\teval-rmse:0.08420\n",
      "[10]\ttrain-rmse:0.06139\teval-rmse:0.07767\n",
      "[11]\ttrain-rmse:0.05471\teval-rmse:0.07312\n",
      "[12]\ttrain-rmse:0.04967\teval-rmse:0.07002\n",
      "[13]\ttrain-rmse:0.04588\teval-rmse:0.06793\n",
      "[14]\ttrain-rmse:0.04306\teval-rmse:0.06652\n",
      "[15]\ttrain-rmse:0.04095\teval-rmse:0.06557\n",
      "[16]\ttrain-rmse:0.03934\teval-rmse:0.06495\n",
      "[17]\ttrain-rmse:0.03808\teval-rmse:0.06453\n",
      "[18]\ttrain-rmse:0.03701\teval-rmse:0.06425\n",
      "[19]\ttrain-rmse:0.03610\teval-rmse:0.06405\n",
      "[20]\ttrain-rmse:0.03529\teval-rmse:0.06390\n",
      "[21]\ttrain-rmse:0.03455\teval-rmse:0.06380\n",
      "[22]\ttrain-rmse:0.03385\teval-rmse:0.06371\n",
      "[23]\ttrain-rmse:0.03321\teval-rmse:0.06365\n",
      "[24]\ttrain-rmse:0.03261\teval-rmse:0.06360\n",
      "[25]\ttrain-rmse:0.03206\teval-rmse:0.06356\n",
      "[26]\ttrain-rmse:0.03155\teval-rmse:0.06352\n",
      "[27]\ttrain-rmse:0.03108\teval-rmse:0.06349\n",
      "[28]\ttrain-rmse:0.03064\teval-rmse:0.06347\n",
      "[29]\ttrain-rmse:0.03023\teval-rmse:0.06345\n",
      "[30]\ttrain-rmse:0.02985\teval-rmse:0.06343\n",
      "[31]\ttrain-rmse:0.02949\teval-rmse:0.06341\n",
      "[32]\ttrain-rmse:0.02915\teval-rmse:0.06340\n",
      "[33]\ttrain-rmse:0.02884\teval-rmse:0.06338\n",
      "[34]\ttrain-rmse:0.02854\teval-rmse:0.06336\n",
      "[35]\ttrain-rmse:0.02827\teval-rmse:0.06335\n",
      "[36]\ttrain-rmse:0.02800\teval-rmse:0.06333\n",
      "[37]\ttrain-rmse:0.02776\teval-rmse:0.06332\n",
      "[38]\ttrain-rmse:0.02752\teval-rmse:0.06331\n",
      "[39]\ttrain-rmse:0.02729\teval-rmse:0.06330\n",
      "[40]\ttrain-rmse:0.02708\teval-rmse:0.06329\n",
      "[41]\ttrain-rmse:0.02686\teval-rmse:0.06328\n",
      "[42]\ttrain-rmse:0.02666\teval-rmse:0.06327\n",
      "[43]\ttrain-rmse:0.02648\teval-rmse:0.06327\n",
      "[44]\ttrain-rmse:0.02629\teval-rmse:0.06326\n",
      "[45]\ttrain-rmse:0.02611\teval-rmse:0.06325\n",
      "[46]\ttrain-rmse:0.02594\teval-rmse:0.06325\n",
      "[47]\ttrain-rmse:0.02578\teval-rmse:0.06324\n",
      "[48]\ttrain-rmse:0.02562\teval-rmse:0.06324\n",
      "[49]\ttrain-rmse:0.02547\teval-rmse:0.06323\n",
      "[50]\ttrain-rmse:0.02532\teval-rmse:0.06323\n",
      "[51]\ttrain-rmse:0.02518\teval-rmse:0.06322\n",
      "[52]\ttrain-rmse:0.02504\teval-rmse:0.06322\n",
      "[53]\ttrain-rmse:0.02491\teval-rmse:0.06322\n",
      "[54]\ttrain-rmse:0.02478\teval-rmse:0.06321\n",
      "[55]\ttrain-rmse:0.02465\teval-rmse:0.06321\n",
      "[56]\ttrain-rmse:0.02453\teval-rmse:0.06321\n",
      "[57]\ttrain-rmse:0.02441\teval-rmse:0.06320\n",
      "[58]\ttrain-rmse:0.02429\teval-rmse:0.06320\n",
      "[59]\ttrain-rmse:0.02418\teval-rmse:0.06320\n",
      "[60]\ttrain-rmse:0.02407\teval-rmse:0.06320\n",
      "[61]\ttrain-rmse:0.02396\teval-rmse:0.06319\n",
      "[62]\ttrain-rmse:0.02386\teval-rmse:0.06319\n",
      "[63]\ttrain-rmse:0.02376\teval-rmse:0.06319\n",
      "[64]\ttrain-rmse:0.02367\teval-rmse:0.06319\n",
      "[65]\ttrain-rmse:0.02358\teval-rmse:0.06318\n",
      "[66]\ttrain-rmse:0.02349\teval-rmse:0.06318\n",
      "[67]\ttrain-rmse:0.02341\teval-rmse:0.06318\n",
      "[68]\ttrain-rmse:0.02333\teval-rmse:0.06318\n",
      "[69]\ttrain-rmse:0.02326\teval-rmse:0.06318\n",
      "[70]\ttrain-rmse:0.02319\teval-rmse:0.06318\n",
      "[71]\ttrain-rmse:0.02313\teval-rmse:0.06318\n",
      "[72]\ttrain-rmse:0.02307\teval-rmse:0.06317\n",
      "[73]\ttrain-rmse:0.02301\teval-rmse:0.06317\n",
      "[74]\ttrain-rmse:0.02296\teval-rmse:0.06317\n",
      "[75]\ttrain-rmse:0.02291\teval-rmse:0.06317\n",
      "[76]\ttrain-rmse:0.02286\teval-rmse:0.06317\n",
      "[77]\ttrain-rmse:0.02282\teval-rmse:0.06317\n",
      "[78]\ttrain-rmse:0.02279\teval-rmse:0.06317\n",
      "[79]\ttrain-rmse:0.02275\teval-rmse:0.06317\n",
      "[80]\ttrain-rmse:0.02272\teval-rmse:0.06317\n",
      "[81]\ttrain-rmse:0.02269\teval-rmse:0.06317\n",
      "[82]\ttrain-rmse:0.02266\teval-rmse:0.06317\n",
      "[83]\ttrain-rmse:0.02264\teval-rmse:0.06317\n",
      "[84]\ttrain-rmse:0.02262\teval-rmse:0.06317\n",
      "[85]\ttrain-rmse:0.02260\teval-rmse:0.06317\n",
      "[86]\ttrain-rmse:0.02258\teval-rmse:0.06317\n",
      "[87]\ttrain-rmse:0.02257\teval-rmse:0.06317\n",
      "[88]\ttrain-rmse:0.02255\teval-rmse:0.06317\n",
      "[89]\ttrain-rmse:0.02254\teval-rmse:0.06317\n",
      "[90]\ttrain-rmse:0.02253\teval-rmse:0.06317\n",
      "[91]\ttrain-rmse:0.02251\teval-rmse:0.06317\n",
      "[92]\ttrain-rmse:0.02251\teval-rmse:0.06317\n",
      "[93]\ttrain-rmse:0.02250\teval-rmse:0.06317\n",
      "[94]\ttrain-rmse:0.02249\teval-rmse:0.06317\n"
     ]
    }
   ],
   "source": [
    "params = {'alpha':2,'max_depth': 4,'eta' : 0.2,\"objective\": \"reg:squarederror\", \"tree_method\": \"gpu_hist\"}\n",
    "evalist = [(dtrain_reg, 'train'), (dtest_reg, 'eval')]\n",
    "n = 100\n",
    "bst_TD = xgb.train(params, dtrain_reg, n, evalist,early_stopping_rounds=10)"
   ]
  },
  {
   "cell_type": "code",
   "execution_count": 30,
   "id": "ce80e682",
   "metadata": {},
   "outputs": [],
   "source": [
    "bst_TD.save_model(\"TD_model\")"
   ]
  },
  {
   "cell_type": "markdown",
   "id": "dd5c27a6",
   "metadata": {},
   "source": [
    "# Microwave"
   ]
  },
  {
   "cell_type": "code",
   "execution_count": 31,
   "id": "fc2b2c93",
   "metadata": {},
   "outputs": [],
   "source": [
    "X_train, X_test, y_train, y_test = train_test_split(X, Y_MW, random_state=4)"
   ]
  },
  {
   "cell_type": "code",
   "execution_count": 32,
   "id": "8617f95e",
   "metadata": {},
   "outputs": [],
   "source": [
    "dtrain_reg = xgb.DMatrix(X_train, y_train)\n",
    "\n",
    "dtest_reg = xgb.DMatrix(X_test, y_test)"
   ]
  },
  {
   "cell_type": "code",
   "execution_count": 33,
   "id": "7b7e2f92",
   "metadata": {},
   "outputs": [
    {
     "name": "stdout",
     "output_type": "stream",
     "text": [
      "[0]\ttrain-rmse:0.40068\teval-rmse:0.40067\n",
      "[1]\ttrain-rmse:0.32136\teval-rmse:0.32135\n",
      "[2]\ttrain-rmse:0.25809\teval-rmse:0.25809\n",
      "[3]\ttrain-rmse:0.20769\teval-rmse:0.20772\n",
      "[4]\ttrain-rmse:0.16763\teval-rmse:0.16770\n",
      "[5]\ttrain-rmse:0.13588\teval-rmse:0.13603\n",
      "[6]\ttrain-rmse:0.11081\teval-rmse:0.11109\n",
      "[7]\ttrain-rmse:0.09114\teval-rmse:0.09161\n",
      "[8]\ttrain-rmse:0.07583\teval-rmse:0.07656\n",
      "[9]\ttrain-rmse:0.06401\teval-rmse:0.06511\n",
      "[10]\ttrain-rmse:0.05498\teval-rmse:0.05655\n",
      "[11]\ttrain-rmse:0.04814\teval-rmse:0.05029\n",
      "[12]\ttrain-rmse:0.04297\teval-rmse:0.04579\n",
      "[13]\ttrain-rmse:0.03909\teval-rmse:0.04263\n",
      "[14]\ttrain-rmse:0.03612\teval-rmse:0.04046\n",
      "[15]\ttrain-rmse:0.03381\teval-rmse:0.03899\n",
      "[16]\ttrain-rmse:0.03200\teval-rmse:0.03800\n",
      "[17]\ttrain-rmse:0.03053\teval-rmse:0.03734\n",
      "[18]\ttrain-rmse:0.02931\teval-rmse:0.03691\n",
      "[19]\ttrain-rmse:0.02831\teval-rmse:0.03662\n",
      "[20]\ttrain-rmse:0.02750\teval-rmse:0.03643\n",
      "[21]\ttrain-rmse:0.02683\teval-rmse:0.03631\n",
      "[22]\ttrain-rmse:0.02629\teval-rmse:0.03623\n",
      "[23]\ttrain-rmse:0.02582\teval-rmse:0.03619\n",
      "[24]\ttrain-rmse:0.02541\teval-rmse:0.03616\n",
      "[25]\ttrain-rmse:0.02503\teval-rmse:0.03614\n",
      "[26]\ttrain-rmse:0.02466\teval-rmse:0.03614\n",
      "[27]\ttrain-rmse:0.02429\teval-rmse:0.03614\n",
      "[28]\ttrain-rmse:0.02392\teval-rmse:0.03614\n",
      "[29]\ttrain-rmse:0.02357\teval-rmse:0.03614\n",
      "[30]\ttrain-rmse:0.02323\teval-rmse:0.03615\n",
      "[31]\ttrain-rmse:0.02291\teval-rmse:0.03616\n",
      "[32]\ttrain-rmse:0.02262\teval-rmse:0.03616\n",
      "[33]\ttrain-rmse:0.02235\teval-rmse:0.03617\n",
      "[34]\ttrain-rmse:0.02209\teval-rmse:0.03618\n",
      "[35]\ttrain-rmse:0.02185\teval-rmse:0.03619\n",
      "[36]\ttrain-rmse:0.02163\teval-rmse:0.03620\n",
      "[37]\ttrain-rmse:0.02141\teval-rmse:0.03621\n"
     ]
    }
   ],
   "source": [
    "params = {'alpha':2,'max_depth': 4,'eta' : 0.2,\"objective\": \"reg:squarederror\", \"tree_method\": \"gpu_hist\"}\n",
    "evalist = [(dtrain_reg, 'train'), (dtest_reg, 'eval')]\n",
    "n = 100\n",
    "bst_MW = xgb.train(params, dtrain_reg, n, evalist,early_stopping_rounds=10)"
   ]
  },
  {
   "cell_type": "code",
   "execution_count": 34,
   "id": "f570c3fc",
   "metadata": {},
   "outputs": [],
   "source": [
    "bst_MW.save_model(\"MW_model\")"
   ]
  },
  {
   "cell_type": "markdown",
   "id": "d2f3e984",
   "metadata": {},
   "source": [
    "# Kettle"
   ]
  },
  {
   "cell_type": "code",
   "execution_count": 35,
   "id": "158bf01f",
   "metadata": {},
   "outputs": [],
   "source": [
    "X_train, X_test, y_train, y_test = train_test_split(X, Y_K, random_state=5)"
   ]
  },
  {
   "cell_type": "code",
   "execution_count": 36,
   "id": "2c6dadd6",
   "metadata": {},
   "outputs": [],
   "source": [
    "dtrain_reg = xgb.DMatrix(X_train, y_train)\n",
    "\n",
    "dtest_reg = xgb.DMatrix(X_test, y_test)"
   ]
  },
  {
   "cell_type": "code",
   "execution_count": 37,
   "id": "68a5b8b2",
   "metadata": {},
   "outputs": [
    {
     "name": "stdout",
     "output_type": "stream",
     "text": [
      "[0]\ttrain-rmse:0.40138\teval-rmse:0.40158\n",
      "[1]\ttrain-rmse:0.32267\teval-rmse:0.32318\n",
      "[2]\ttrain-rmse:0.25990\teval-rmse:0.26084\n",
      "[3]\ttrain-rmse:0.20994\teval-rmse:0.21143\n",
      "[4]\ttrain-rmse:0.17023\teval-rmse:0.17245\n",
      "[5]\ttrain-rmse:0.13882\teval-rmse:0.14192\n",
      "[6]\ttrain-rmse:0.11405\teval-rmse:0.11822\n",
      "[7]\ttrain-rmse:0.09463\teval-rmse:0.10008\n",
      "[8]\ttrain-rmse:0.07952\teval-rmse:0.08641\n",
      "[9]\ttrain-rmse:0.06788\teval-rmse:0.07631\n",
      "[10]\ttrain-rmse:0.05895\teval-rmse:0.06900\n",
      "[11]\ttrain-rmse:0.05223\teval-rmse:0.06384\n",
      "[12]\ttrain-rmse:0.04714\teval-rmse:0.06023\n",
      "[13]\ttrain-rmse:0.04332\teval-rmse:0.05776\n",
      "[14]\ttrain-rmse:0.04040\teval-rmse:0.05606\n",
      "[15]\ttrain-rmse:0.03815\teval-rmse:0.05490\n",
      "[16]\ttrain-rmse:0.03638\teval-rmse:0.05411\n",
      "[17]\ttrain-rmse:0.03495\teval-rmse:0.05357\n",
      "[18]\ttrain-rmse:0.03380\teval-rmse:0.05320\n",
      "[19]\ttrain-rmse:0.03287\teval-rmse:0.05295\n",
      "[20]\ttrain-rmse:0.03209\teval-rmse:0.05277\n",
      "[21]\ttrain-rmse:0.03143\teval-rmse:0.05264\n",
      "[22]\ttrain-rmse:0.03083\teval-rmse:0.05255\n",
      "[23]\ttrain-rmse:0.03027\teval-rmse:0.05249\n",
      "[24]\ttrain-rmse:0.02974\teval-rmse:0.05244\n",
      "[25]\ttrain-rmse:0.02923\teval-rmse:0.05239\n",
      "[26]\ttrain-rmse:0.02873\teval-rmse:0.05235\n",
      "[27]\ttrain-rmse:0.02824\teval-rmse:0.05232\n",
      "[28]\ttrain-rmse:0.02776\teval-rmse:0.05229\n",
      "[29]\ttrain-rmse:0.02730\teval-rmse:0.05227\n",
      "[30]\ttrain-rmse:0.02686\teval-rmse:0.05226\n",
      "[31]\ttrain-rmse:0.02645\teval-rmse:0.05225\n",
      "[32]\ttrain-rmse:0.02607\teval-rmse:0.05225\n",
      "[33]\ttrain-rmse:0.02571\teval-rmse:0.05225\n",
      "[34]\ttrain-rmse:0.02536\teval-rmse:0.05225\n",
      "[35]\ttrain-rmse:0.02503\teval-rmse:0.05224\n",
      "[36]\ttrain-rmse:0.02472\teval-rmse:0.05224\n",
      "[37]\ttrain-rmse:0.02443\teval-rmse:0.05225\n",
      "[38]\ttrain-rmse:0.02415\teval-rmse:0.05225\n",
      "[39]\ttrain-rmse:0.02389\teval-rmse:0.05225\n",
      "[40]\ttrain-rmse:0.02363\teval-rmse:0.05226\n",
      "[41]\ttrain-rmse:0.02340\teval-rmse:0.05226\n",
      "[42]\ttrain-rmse:0.02317\teval-rmse:0.05227\n",
      "[43]\ttrain-rmse:0.02295\teval-rmse:0.05227\n",
      "[44]\ttrain-rmse:0.02274\teval-rmse:0.05227\n",
      "[45]\ttrain-rmse:0.02254\teval-rmse:0.05227\n"
     ]
    }
   ],
   "source": [
    "params = {'alpha':2,'max_depth': 4,'eta' : 0.2,\"objective\": \"reg:squarederror\", \"tree_method\": \"gpu_hist\"}\n",
    "evalist = [(dtrain_reg, 'train'), (dtest_reg, 'eval')]\n",
    "n = 100\n",
    "bst_K = xgb.train(params, dtrain_reg, n, evalist,early_stopping_rounds=10)"
   ]
  },
  {
   "cell_type": "code",
   "execution_count": 38,
   "id": "4afe39eb",
   "metadata": {},
   "outputs": [],
   "source": [
    "bst_K.save_model(\"K_model\")"
   ]
  }
 ],
 "metadata": {
  "kernelspec": {
   "display_name": "Python 3 (ipykernel)",
   "language": "python",
   "name": "python3"
  },
  "language_info": {
   "codemirror_mode": {
    "name": "ipython",
    "version": 3
   },
   "file_extension": ".py",
   "mimetype": "text/x-python",
   "name": "python",
   "nbconvert_exporter": "python",
   "pygments_lexer": "ipython3",
   "version": "3.10.10"
  }
 },
 "nbformat": 4,
 "nbformat_minor": 5
}
